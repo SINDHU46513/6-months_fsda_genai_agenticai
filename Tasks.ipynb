{
 "cells": [
  {
   "cell_type": "markdown",
   "id": "be094223-d707-471f-a9dd-ca51b6f52b4a",
   "metadata": {},
   "source": [
    "numbers & strings"
   ]
  },
  {
   "cell_type": "code",
   "execution_count": 7,
   "id": "dbbfebd5-5385-4a99-8f72-36388c1c1a2b",
   "metadata": {},
   "outputs": [
    {
     "data": {
      "text/plain": [
       "4"
      ]
     },
     "execution_count": 7,
     "metadata": {},
     "output_type": "execute_result"
    }
   ],
   "source": [
    "2+2"
   ]
  },
  {
   "cell_type": "code",
   "execution_count": 8,
   "id": "65e035d4-a8cf-4ea0-87e8-de095d334fcd",
   "metadata": {},
   "outputs": [
    {
     "data": {
      "text/plain": [
       "-118"
      ]
     },
     "execution_count": 8,
     "metadata": {},
     "output_type": "execute_result"
    }
   ],
   "source": [
    "35-7*23+8"
   ]
  },
  {
   "cell_type": "code",
   "execution_count": 10,
   "id": "bc2fd572-c854-4f9d-9863-d885dac5fcad",
   "metadata": {},
   "outputs": [
    {
     "data": {
      "text/plain": [
       "-59.0"
      ]
     },
     "execution_count": 10,
     "metadata": {},
     "output_type": "execute_result"
    }
   ],
   "source": [
    "(35-7*23+8)/2"
   ]
  },
  {
   "cell_type": "code",
   "execution_count": 11,
   "id": "5d0a50b8-460d-4add-b75a-4e8c693374fb",
   "metadata": {},
   "outputs": [
    {
     "data": {
      "text/plain": [
       "2.6666666666666665"
      ]
     },
     "execution_count": 11,
     "metadata": {},
     "output_type": "execute_result"
    }
   ],
   "source": [
    "8/3"
   ]
  },
  {
   "cell_type": "code",
   "execution_count": 12,
   "id": "56a54595-355c-41c2-a90a-9e034758c588",
   "metadata": {},
   "outputs": [
    {
     "data": {
      "text/plain": [
       "11.25"
      ]
     },
     "execution_count": 12,
     "metadata": {},
     "output_type": "execute_result"
    }
   ],
   "source": [
    "9/4*5"
   ]
  },
  {
   "cell_type": "code",
   "execution_count": 13,
   "id": "a9d40307-a460-4ade-b359-4a944dba4393",
   "metadata": {},
   "outputs": [
    {
     "data": {
      "text/plain": [
       "2.0"
      ]
     },
     "execution_count": 13,
     "metadata": {},
     "output_type": "execute_result"
    }
   ],
   "source": [
    "4/2"
   ]
  },
  {
   "cell_type": "code",
   "execution_count": 14,
   "id": "21b77304-079e-4c0a-b110-88d1b6ba10ad",
   "metadata": {},
   "outputs": [
    {
     "data": {
      "text/plain": [
       "2"
      ]
     },
     "execution_count": 14,
     "metadata": {},
     "output_type": "execute_result"
    }
   ],
   "source": [
    "4//2"
   ]
  },
  {
   "cell_type": "code",
   "execution_count": 15,
   "id": "844ace67-3b0b-4d5a-8ce0-3d7451a45d8c",
   "metadata": {},
   "outputs": [
    {
     "data": {
      "text/plain": [
       "0"
      ]
     },
     "execution_count": 15,
     "metadata": {},
     "output_type": "execute_result"
    }
   ],
   "source": [
    "4%2"
   ]
  },
  {
   "cell_type": "code",
   "execution_count": 16,
   "id": "2a8883b3-2163-4699-87fd-149ccb9f8e10",
   "metadata": {},
   "outputs": [
    {
     "data": {
      "text/plain": [
       "1"
      ]
     },
     "execution_count": 16,
     "metadata": {},
     "output_type": "execute_result"
    }
   ],
   "source": [
    "5%2"
   ]
  },
  {
   "cell_type": "code",
   "execution_count": 19,
   "id": "8a56946e-c5af-45fc-9075-1c41663eb3ac",
   "metadata": {},
   "outputs": [
    {
     "data": {
      "text/plain": [
       "25"
      ]
     },
     "execution_count": 19,
     "metadata": {},
     "output_type": "execute_result"
    }
   ],
   "source": [
    "5**2"
   ]
  },
  {
   "cell_type": "code",
   "execution_count": 21,
   "id": "735bb304-39a1-400a-ab58-e6be0172af95",
   "metadata": {},
   "outputs": [
    {
     "data": {
      "text/plain": [
       "128"
      ]
     },
     "execution_count": 21,
     "metadata": {},
     "output_type": "execute_result"
    }
   ],
   "source": [
    "2**7"
   ]
  },
  {
   "cell_type": "code",
   "execution_count": 22,
   "id": "2db0c6b6-b811-4374-b5c9-c85f2c7f9796",
   "metadata": {},
   "outputs": [
    {
     "ename": "SyntaxError",
     "evalue": "invalid syntax (3935740339.py, line 1)",
     "output_type": "error",
     "traceback": [
      "\u001b[1;36m  Cell \u001b[1;32mIn[22], line 1\u001b[1;36m\u001b[0m\n\u001b[1;33m    2***7\u001b[0m\n\u001b[1;37m       ^\u001b[0m\n\u001b[1;31mSyntaxError\u001b[0m\u001b[1;31m:\u001b[0m invalid syntax\n"
     ]
    }
   ],
   "source": [
    "2***7"
   ]
  },
  {
   "cell_type": "code",
   "execution_count": 24,
   "id": "573a8090-11bf-45ca-9030-ba40b61a212f",
   "metadata": {},
   "outputs": [
    {
     "data": {
      "text/plain": [
       "2160"
      ]
     },
     "execution_count": 24,
     "metadata": {},
     "output_type": "execute_result"
    }
   ],
   "source": [
    "width = 72\n",
    "height = 5*6\n",
    "width * height"
   ]
  },
  {
   "cell_type": "code",
   "execution_count": 25,
   "id": "9de126f5-d831-4f18-a671-db22503fb35c",
   "metadata": {},
   "outputs": [
    {
     "data": {
      "text/plain": [
       "'sindhu sura'"
      ]
     },
     "execution_count": 25,
     "metadata": {},
     "output_type": "execute_result"
    }
   ],
   "source": [
    "'sindhu sura'"
   ]
  },
  {
   "cell_type": "code",
   "execution_count": 30,
   "id": "e48aee70-0608-432e-9781-83e0996a16e5",
   "metadata": {},
   "outputs": [
    {
     "data": {
      "text/plain": [
       "'sindhu sura'"
      ]
     },
     "execution_count": 30,
     "metadata": {},
     "output_type": "execute_result"
    }
   ],
   "source": [
    "\"sindhu sura\""
   ]
  },
  {
   "cell_type": "code",
   "execution_count": 33,
   "id": "54708549-db86-4d64-aaa2-8e167bfff708",
   "metadata": {},
   "outputs": [
    {
     "data": {
      "text/plain": [
       "'sindhu \\n\\nsura'"
      ]
     },
     "execution_count": 33,
     "metadata": {},
     "output_type": "execute_result"
    }
   ],
   "source": [
    "'''sindhu \n",
    "\n",
    "sura'''"
   ]
  },
  {
   "cell_type": "code",
   "execution_count": 39,
   "id": "25eb5539-3bee-4353-956f-ec7baeb51fa0",
   "metadata": {},
   "outputs": [
    {
     "data": {
      "text/plain": [
       "'sinsinsinsinsindhu'"
      ]
     },
     "execution_count": 39,
     "metadata": {},
     "output_type": "execute_result"
    }
   ],
   "source": [
    "5*'sin'+'dhu'"
   ]
  },
  {
   "cell_type": "code",
   "execution_count": 41,
   "id": "761af2a4-a2d5-44f7-af33-2d46ff14dca9",
   "metadata": {},
   "outputs": [
    {
     "data": {
      "text/plain": [
       "'sindhu'"
      ]
     },
     "execution_count": 41,
     "metadata": {},
     "output_type": "execute_result"
    }
   ],
   "source": [
    "'sin'   'dhu'"
   ]
  },
  {
   "cell_type": "code",
   "execution_count": 50,
   "id": "9874f64a-13a5-4fda-bac7-f7f38ab62aac",
   "metadata": {},
   "outputs": [],
   "source": [
    "prefix = 'py'"
   ]
  },
  {
   "cell_type": "code",
   "execution_count": 51,
   "id": "e34eb480-dede-4863-b94c-76ffcaf8acb1",
   "metadata": {},
   "outputs": [
    {
     "data": {
      "text/plain": [
       "'python'"
      ]
     },
     "execution_count": 51,
     "metadata": {},
     "output_type": "execute_result"
    }
   ],
   "source": [
    "prefix + 'thon'"
   ]
  },
  {
   "cell_type": "code",
   "execution_count": 55,
   "id": "5c49647c-ea10-41b4-b396-9d88fa130b71",
   "metadata": {},
   "outputs": [],
   "source": [
    "a = 'python'"
   ]
  },
  {
   "cell_type": "code",
   "execution_count": 57,
   "id": "8b636366-a54a-4446-8cd2-31ff7aa0e9c0",
   "metadata": {},
   "outputs": [
    {
     "data": {
      "text/plain": [
       "'t'"
      ]
     },
     "execution_count": 57,
     "metadata": {},
     "output_type": "execute_result"
    }
   ],
   "source": [
    "a[-4]"
   ]
  },
  {
   "cell_type": "code",
   "execution_count": 61,
   "id": "ee10f8ba-51b1-4973-aa77-a86f7726242e",
   "metadata": {},
   "outputs": [
    {
     "data": {
      "text/plain": [
       "'thon'"
      ]
     },
     "execution_count": 61,
     "metadata": {},
     "output_type": "execute_result"
    }
   ],
   "source": [
    "a[2:]"
   ]
  },
  {
   "cell_type": "code",
   "execution_count": 71,
   "id": "9d2d97f8-99f5-4414-b0cd-3c24180e7c60",
   "metadata": {},
   "outputs": [
    {
     "data": {
      "text/plain": [
       "'pyt'"
      ]
     },
     "execution_count": 71,
     "metadata": {},
     "output_type": "execute_result"
    }
   ],
   "source": [
    "a[:3]"
   ]
  },
  {
   "cell_type": "code",
   "execution_count": 83,
   "id": "a547c212-36c2-4411-8c17-173786265683",
   "metadata": {},
   "outputs": [
    {
     "data": {
      "text/plain": [
       "'ph'"
      ]
     },
     "execution_count": 83,
     "metadata": {},
     "output_type": "execute_result"
    }
   ],
   "source": [
    "a[0:6:3]"
   ]
  },
  {
   "cell_type": "code",
   "execution_count": 82,
   "id": "8db04470-84b0-48a3-8961-9f42f49316b0",
   "metadata": {},
   "outputs": [
    {
     "data": {
      "text/plain": [
       "'yhn'"
      ]
     },
     "execution_count": 82,
     "metadata": {},
     "output_type": "execute_result"
    }
   ],
   "source": [
    "a[1:6:2]"
   ]
  },
  {
   "cell_type": "markdown",
   "id": "e4879989-aaca-4b42-bb5e-6c75e6d59b71",
   "metadata": {},
   "source": [
    "print statements"
   ]
  },
  {
   "cell_type": "code",
   "execution_count": 84,
   "id": "0bc81d88-cbf2-4a18-b007-d89eeaed408a",
   "metadata": {},
   "outputs": [
    {
     "data": {
      "text/plain": [
       "35"
      ]
     },
     "execution_count": 84,
     "metadata": {},
     "output_type": "execute_result"
    }
   ],
   "source": [
    "x = 90\n",
    "y = 35\n",
    "x\n",
    "y"
   ]
  },
  {
   "cell_type": "code",
   "execution_count": 85,
   "id": "56520683-1cc7-4128-b585-87de2790ccf2",
   "metadata": {},
   "outputs": [
    {
     "name": "stdout",
     "output_type": "stream",
     "text": [
      "90\n",
      "35\n"
     ]
    }
   ],
   "source": [
    "x = 90\n",
    "y = 35\n",
    "print(x)\n",
    "print(y)"
   ]
  },
  {
   "cell_type": "code",
   "execution_count": 90,
   "id": "08b6e740-cdc6-47ca-8d19-ed608864f81d",
   "metadata": {},
   "outputs": [
    {
     "name": "stdout",
     "output_type": "stream",
     "text": [
      "10 20 sindhu python 4573 keyboard\n"
     ]
    }
   ],
   "source": [
    "print(10,20,'sindhu','python',4573,'keyboard')"
   ]
  },
  {
   "cell_type": "code",
   "execution_count": 92,
   "id": "8e13c945-b9b0-4bd4-b706-b58ca0f85e9d",
   "metadata": {},
   "outputs": [
    {
     "name": "stdout",
     "output_type": "stream",
     "text": [
      "10\n",
      "10 20\n",
      "sindhu\n",
      "python\n",
      "4573\n",
      "keyboard\n"
     ]
    }
   ],
   "source": [
    "print(10)\n",
    "print(10,20)\n",
    "print('sindhu')\n",
    "print('python')\n",
    "print('4573')\n",
    "print('keyboard')"
   ]
  },
  {
   "cell_type": "code",
   "execution_count": 93,
   "id": "222b07b2-c145-4acd-9bd8-d26d2926b57f",
   "metadata": {},
   "outputs": [
    {
     "data": {
      "text/plain": [
       "30"
      ]
     },
     "execution_count": 93,
     "metadata": {},
     "output_type": "execute_result"
    }
   ],
   "source": [
    "a=(10)\n",
    "b=(20)\n",
    "c= a+b\n",
    "c"
   ]
  },
  {
   "cell_type": "code",
   "execution_count": 94,
   "id": "f0fc5b8b-4ada-4ae2-8377-2b607968319a",
   "metadata": {},
   "outputs": [
    {
     "name": "stdout",
     "output_type": "stream",
     "text": [
      "30\n"
     ]
    }
   ],
   "source": [
    "a=(10)\n",
    "b=(20)\n",
    "c= a+b\n",
    "print(c)"
   ]
  },
  {
   "cell_type": "code",
   "execution_count": 95,
   "id": "70742770-64d8-4500-ba73-760c133c9aa8",
   "metadata": {},
   "outputs": [
    {
     "name": "stdout",
     "output_type": "stream",
     "text": [
      "The addition of 20 and 30 is= 50\n"
     ]
    }
   ],
   "source": [
    "num1=20 \n",
    "num2=30 \n",
    "add=num1+num2 \n",
    "print('The addition of',num1,'and',num2,'is=',add) "
   ]
  },
  {
   "cell_type": "code",
   "execution_count": 107,
   "id": "4d93394d-e995-46a9-a7ce-c213ec138323",
   "metadata": {},
   "outputs": [],
   "source": [
    "name='Python' \n",
    "age=20 \n",
    "city='hyd' "
   ]
  },
  {
   "cell_type": "code",
   "execution_count": 108,
   "id": "03ad1f8a-9cae-4f0b-9f0d-525b98137803",
   "metadata": {},
   "outputs": [
    {
     "name": "stdout",
     "output_type": "stream",
     "text": [
      "hello my name is Python and i am 20 years old from hyd\n"
     ]
    }
   ],
   "source": [
    "print('hello my name is {} and i am {} years old from {}'.format(name,age,city))"
   ]
  },
  {
   "cell_type": "code",
   "execution_count": 1,
   "id": "343c18df-ac4d-4665-b3f6-e8b682d66a74",
   "metadata": {},
   "outputs": [
    {
     "ename": "NameError",
     "evalue": "name 'l' is not defined",
     "output_type": "error",
     "traceback": [
      "\u001b[1;31m---------------------------------------------------------------------------\u001b[0m",
      "\u001b[1;31mNameError\u001b[0m                                 Traceback (most recent call last)",
      "Cell \u001b[1;32mIn[1], line 1\u001b[0m\n\u001b[1;32m----> 1\u001b[0m l\u001b[38;5;241m.\u001b[39mappend(\u001b[38;5;241m10\u001b[39m,\u001b[38;5;241m20\u001b[39m)\n",
      "\u001b[1;31mNameError\u001b[0m: name 'l' is not defined"
     ]
    }
   ],
   "source": [
    "l.append(10,20)"
   ]
  },
  {
   "cell_type": "code",
   "execution_count": 2,
   "id": "9b74fd25-21cb-48f9-b353-7f4174f7a665",
   "metadata": {},
   "outputs": [
    {
     "ename": "NameError",
     "evalue": "name 'l' is not defined",
     "output_type": "error",
     "traceback": [
      "\u001b[1;31m---------------------------------------------------------------------------\u001b[0m",
      "\u001b[1;31mNameError\u001b[0m                                 Traceback (most recent call last)",
      "Cell \u001b[1;32mIn[2], line 1\u001b[0m\n\u001b[1;32m----> 1\u001b[0m l\u001b[38;5;241m.\u001b[39mappend(\u001b[38;5;241m10\u001b[39m)\n\u001b[0;32m      2\u001b[0m l\u001b[38;5;241m.\u001b[39mappend(\u001b[38;5;241m10\u001b[39m)\n\u001b[0;32m      3\u001b[0m l\u001b[38;5;241m.\u001b[39mappend(\u001b[38;5;241m10\u001b[39m)\n",
      "\u001b[1;31mNameError\u001b[0m: name 'l' is not defined"
     ]
    }
   ],
   "source": [
    "l.append(10)\n",
    "l.append(10)\n",
    "l.append(10)\n",
    "l.append(10,20)"
   ]
  },
  {
   "cell_type": "code",
   "execution_count": 3,
   "id": "abb7b56a-2a5e-4c41-9c26-8980a7a9b3d6",
   "metadata": {},
   "outputs": [
    {
     "data": {
      "text/plain": [
       "140715991968280"
      ]
     },
     "execution_count": 3,
     "metadata": {},
     "output_type": "execute_result"
    }
   ],
   "source": [
    "id(v) # address of the memory location"
   ]
  },
  {
   "cell_type": "code",
   "execution_count": 4,
   "id": "c9dbc0bf-1d8f-4f69-9a66-6ae267963b3e",
   "metadata": {},
   "outputs": [
    {
     "ename": "SyntaxError",
     "evalue": "cannot assign to literal here. Maybe you meant '==' instead of '='? (2330155201.py, line 1)",
     "output_type": "error",
     "traceback": [
      "\u001b[1;36m  Cell \u001b[1;32mIn[4], line 1\u001b[1;36m\u001b[0m\n\u001b[1;33m    4 = v\u001b[0m\n\u001b[1;37m    ^\u001b[0m\n\u001b[1;31mSyntaxError\u001b[0m\u001b[1;31m:\u001b[0m cannot assign to literal here. Maybe you meant '==' instead of '='?\n"
     ]
    }
   ],
   "source": [
    "4 = v"
   ]
  },
  {
   "cell_type": "code",
   "execution_count": 5,
   "id": "2858eb44-dba9-47b6-b249-f164d65d6a45",
   "metadata": {},
   "outputs": [
    {
     "ename": "SyntaxError",
     "evalue": "invalid decimal literal (411599276.py, line 1)",
     "output_type": "error",
     "traceback": [
      "\u001b[1;36m  Cell \u001b[1;32mIn[5], line 1\u001b[1;36m\u001b[0m\n\u001b[1;33m    1v = 5\u001b[0m\n\u001b[1;37m    ^\u001b[0m\n\u001b[1;31mSyntaxError\u001b[0m\u001b[1;31m:\u001b[0m invalid decimal literal\n"
     ]
    }
   ],
   "source": [
    "1v = 5"
   ]
  },
  {
   "cell_type": "code",
   "execution_count": 6,
   "id": "b7383c13-bd10-43ac-8a30-60d17fb9f2c8",
   "metadata": {},
   "outputs": [
    {
     "data": {
      "text/plain": [
       "5"
      ]
     },
     "execution_count": 6,
     "metadata": {},
     "output_type": "execute_result"
    }
   ],
   "source": [
    "v1 = 5\n",
    "v1"
   ]
  },
  {
   "cell_type": "code",
   "execution_count": 7,
   "id": "6e1ebce7-2d36-44a6-8220-bc130fde8eec",
   "metadata": {},
   "outputs": [
    {
     "data": {
      "text/plain": [
       "8"
      ]
     },
     "execution_count": 7,
     "metadata": {},
     "output_type": "execute_result"
    }
   ],
   "source": [
    "v2 = 8\n",
    "v2"
   ]
  },
  {
   "cell_type": "code",
   "execution_count": 9,
   "id": "92262ada-fadd-47e5-94c5-11c947291dd4",
   "metadata": {},
   "outputs": [
    {
     "ename": "NameError",
     "evalue": "name 'V2' is not defined",
     "output_type": "error",
     "traceback": [
      "\u001b[1;31m---------------------------------------------------------------------------\u001b[0m",
      "\u001b[1;31mNameError\u001b[0m                                 Traceback (most recent call last)",
      "Cell \u001b[1;32mIn[9], line 2\u001b[0m\n\u001b[0;32m      1\u001b[0m v2 \u001b[38;5;241m=\u001b[39m \u001b[38;5;241m4\u001b[39m\n\u001b[1;32m----> 2\u001b[0m V2\n",
      "\u001b[1;31mNameError\u001b[0m: name 'V2' is not defined"
     ]
    }
   ],
   "source": [
    "v2 = 4\n",
    "V2"
   ]
  },
  {
   "cell_type": "code",
   "execution_count": 10,
   "id": "80b15131-c32d-4fff-b45f-9dc801453735",
   "metadata": {},
   "outputs": [
    {
     "ename": "SyntaxError",
     "evalue": "invalid syntax (1196344552.py, line 1)",
     "output_type": "error",
     "traceback": [
      "\u001b[1;36m  Cell \u001b[1;32mIn[10], line 1\u001b[1;36m\u001b[0m\n\u001b[1;33m    v@ = 17\u001b[0m\n\u001b[1;37m       ^\u001b[0m\n\u001b[1;31mSyntaxError\u001b[0m\u001b[1;31m:\u001b[0m invalid syntax\n"
     ]
    }
   ],
   "source": [
    "v@ = 17"
   ]
  },
  {
   "cell_type": "code",
   "execution_count": 11,
   "id": "08655810-1f9d-409e-b3c8-f404c1ad0cc6",
   "metadata": {},
   "outputs": [
    {
     "ename": "SyntaxError",
     "evalue": "invalid syntax (3018600632.py, line 1)",
     "output_type": "error",
     "traceback": [
      "\u001b[1;36m  Cell \u001b[1;32mIn[11], line 1\u001b[1;36m\u001b[0m\n\u001b[1;33m    v* = 17\u001b[0m\n\u001b[1;37m       ^\u001b[0m\n\u001b[1;31mSyntaxError\u001b[0m\u001b[1;31m:\u001b[0m invalid syntax\n"
     ]
    }
   ],
   "source": [
    "v* = 17\n",
    "v*"
   ]
  },
  {
   "cell_type": "code",
   "execution_count": 13,
   "id": "68d6460b-50f3-4d49-89b0-3bde173f62b5",
   "metadata": {},
   "outputs": [
    {
     "data": {
      "text/plain": [
       "10"
      ]
     },
     "execution_count": 13,
     "metadata": {},
     "output_type": "execute_result"
    }
   ],
   "source": [
    "v_ = 10\n",
    "v_"
   ]
  },
  {
   "cell_type": "code",
   "execution_count": 14,
   "id": "0c51d157-e9e3-4ca8-90be-b1ed2158c551",
   "metadata": {},
   "outputs": [
    {
     "ename": "SyntaxError",
     "evalue": "invalid syntax (3655575082.py, line 1)",
     "output_type": "error",
     "traceback": [
      "\u001b[1;36m  Cell \u001b[1;32mIn[14], line 1\u001b[1;36m\u001b[0m\n\u001b[1;33m    if = 36\u001b[0m\n\u001b[1;37m       ^\u001b[0m\n\u001b[1;31mSyntaxError\u001b[0m\u001b[1;31m:\u001b[0m invalid syntax\n"
     ]
    }
   ],
   "source": [
    "if = 36"
   ]
  },
  {
   "cell_type": "code",
   "execution_count": 15,
   "id": "e1d6401a-70b0-4db4-b7d9-9d8a69138092",
   "metadata": {},
   "outputs": [
    {
     "ename": "SyntaxError",
     "evalue": "invalid syntax (374213791.py, line 1)",
     "output_type": "error",
     "traceback": [
      "\u001b[1;36m  Cell \u001b[1;32mIn[15], line 1\u001b[1;36m\u001b[0m\n\u001b[1;33m    else = 58\u001b[0m\n\u001b[1;37m    ^\u001b[0m\n\u001b[1;31mSyntaxError\u001b[0m\u001b[1;31m:\u001b[0m invalid syntax\n"
     ]
    }
   ],
   "source": [
    "else = 58"
   ]
  },
  {
   "cell_type": "code",
   "execution_count": 16,
   "id": "38e68b8e-b999-4864-83b3-e6d8e5591258",
   "metadata": {},
   "outputs": [
    {
     "ename": "SyntaxError",
     "evalue": "invalid syntax (3487416048.py, line 1)",
     "output_type": "error",
     "traceback": [
      "\u001b[1;36m  Cell \u001b[1;32mIn[16], line 1\u001b[1;36m\u001b[0m\n\u001b[1;33m    foe loop = 26\u001b[0m\n\u001b[1;37m        ^\u001b[0m\n\u001b[1;31mSyntaxError\u001b[0m\u001b[1;31m:\u001b[0m invalid syntax\n"
     ]
    }
   ],
   "source": [
    "foe loop = 26"
   ]
  },
  {
   "cell_type": "code",
   "execution_count": 18,
   "id": "3674c6be-a460-4c61-8e74-665000de12fd",
   "metadata": {},
   "outputs": [
    {
     "data": {
      "text/plain": [
       "['False',\n",
       " 'None',\n",
       " 'True',\n",
       " 'and',\n",
       " 'as',\n",
       " 'assert',\n",
       " 'async',\n",
       " 'await',\n",
       " 'break',\n",
       " 'class',\n",
       " 'continue',\n",
       " 'def',\n",
       " 'del',\n",
       " 'elif',\n",
       " 'else',\n",
       " 'except',\n",
       " 'finally',\n",
       " 'for',\n",
       " 'from',\n",
       " 'global',\n",
       " 'if',\n",
       " 'import',\n",
       " 'in',\n",
       " 'is',\n",
       " 'lambda',\n",
       " 'nonlocal',\n",
       " 'not',\n",
       " 'or',\n",
       " 'pass',\n",
       " 'raise',\n",
       " 'return',\n",
       " 'try',\n",
       " 'while',\n",
       " 'with',\n",
       " 'yield']"
      ]
     },
     "execution_count": 18,
     "metadata": {},
     "output_type": "execute_result"
    }
   ],
   "source": [
    "import keyword\n",
    "keyword.kwlist"
   ]
  },
  {
   "cell_type": "code",
   "execution_count": 19,
   "id": "a06133e1-fb46-4514-b940-2b1ec32e6450",
   "metadata": {},
   "outputs": [
    {
     "data": {
      "text/plain": [
       "35"
      ]
     },
     "execution_count": 19,
     "metadata": {},
     "output_type": "execute_result"
    }
   ],
   "source": [
    "len(keyword.kwlist)"
   ]
  },
  {
   "cell_type": "code",
   "execution_count": 20,
   "id": "8a912985-2149-4261-9b76-8ced15ab0e5b",
   "metadata": {},
   "outputs": [
    {
     "ename": "SyntaxError",
     "evalue": "invalid syntax (2784298368.py, line 1)",
     "output_type": "error",
     "traceback": [
      "\u001b[1;36m  Cell \u001b[1;32mIn[20], line 1\u001b[1;36m\u001b[0m\n\u001b[1;33m    else = 4\u001b[0m\n\u001b[1;37m    ^\u001b[0m\n\u001b[1;31mSyntaxError\u001b[0m\u001b[1;31m:\u001b[0m invalid syntax\n"
     ]
    }
   ],
   "source": [
    "else = 4"
   ]
  },
  {
   "cell_type": "code",
   "execution_count": 21,
   "id": "a52db2cd-eb20-471f-90f4-21f03d58532a",
   "metadata": {},
   "outputs": [],
   "source": [
    "ELSE = 5"
   ]
  },
  {
   "cell_type": "code",
   "execution_count": 22,
   "id": "5002bd7e-f136-4edb-be30-88308f19ac57",
   "metadata": {},
   "outputs": [
    {
     "ename": "SyntaxError",
     "evalue": "invalid syntax (1530693960.py, line 1)",
     "output_type": "error",
     "traceback": [
      "\u001b[1;36m  Cell \u001b[1;32mIn[22], line 1\u001b[1;36m\u001b[0m\n\u001b[1;33m    for = 4\u001b[0m\n\u001b[1;37m        ^\u001b[0m\n\u001b[1;31mSyntaxError\u001b[0m\u001b[1;31m:\u001b[0m invalid syntax\n"
     ]
    }
   ],
   "source": [
    "for = 4\n",
    "for"
   ]
  },
  {
   "cell_type": "code",
   "execution_count": 23,
   "id": "635ffe0d-f0e4-4517-8ab3-c80a25f43352",
   "metadata": {},
   "outputs": [
    {
     "ename": "NameError",
     "evalue": "name 'FOR' is not defined",
     "output_type": "error",
     "traceback": [
      "\u001b[1;31m---------------------------------------------------------------------------\u001b[0m",
      "\u001b[1;31mNameError\u001b[0m                                 Traceback (most recent call last)",
      "Cell \u001b[1;32mIn[23], line 2\u001b[0m\n\u001b[0;32m      1\u001b[0m For \u001b[38;5;241m=\u001b[39m \u001b[38;5;241m7\u001b[39m\n\u001b[1;32m----> 2\u001b[0m FOR\n",
      "\u001b[1;31mNameError\u001b[0m: name 'FOR' is not defined"
     ]
    }
   ],
   "source": [
    "For = 7\n",
    "FOR"
   ]
  },
  {
   "cell_type": "code",
   "execution_count": 24,
   "id": "5caa5c06-f5e8-4985-91ca-34e288badadf",
   "metadata": {},
   "outputs": [
    {
     "data": {
      "text/plain": [
       "6"
      ]
     },
     "execution_count": 24,
     "metadata": {},
     "output_type": "execute_result"
    }
   ],
   "source": [
    "FOR = 6\n",
    "FOR"
   ]
  },
  {
   "cell_type": "code",
   "execution_count": 25,
   "id": "663ca12c-dd71-4a9f-902c-faa8a1345900",
   "metadata": {},
   "outputs": [
    {
     "data": {
      "text/plain": [
       "1"
      ]
     },
     "execution_count": 25,
     "metadata": {},
     "output_type": "execute_result"
    }
   ],
   "source": [
    "spam = 1\n",
    "spam"
   ]
  },
  {
   "cell_type": "code",
   "execution_count": 1,
   "id": "85d72d36-d586-44a0-ac4c-0a08bc238445",
   "metadata": {},
   "outputs": [
    {
     "data": {
      "text/plain": [
       "32"
      ]
     },
     "execution_count": 1,
     "metadata": {},
     "output_type": "execute_result"
    }
   ],
   "source": [
    "i = 32\n",
    "i"
   ]
  },
  {
   "cell_type": "code",
   "execution_count": 2,
   "id": "193e5c0f-c20f-4619-a15f-b88abc2d86d3",
   "metadata": {},
   "outputs": [
    {
     "ename": "TypeError",
     "evalue": "type() takes 1 or 3 arguments",
     "output_type": "error",
     "traceback": [
      "\u001b[1;31m---------------------------------------------------------------------------\u001b[0m",
      "\u001b[1;31mTypeError\u001b[0m                                 Traceback (most recent call last)",
      "Cell \u001b[1;32mIn[2], line 1\u001b[0m\n\u001b[1;32m----> 1\u001b[0m \u001b[38;5;28mtype\u001b[39m()\n",
      "\u001b[1;31mTypeError\u001b[0m: type() takes 1 or 3 arguments"
     ]
    }
   ],
   "source": [
    "type()"
   ]
  },
  {
   "cell_type": "code",
   "execution_count": 3,
   "id": "89819d8f-3a56-465a-af8a-2d5bb034c995",
   "metadata": {},
   "outputs": [
    {
     "data": {
      "text/plain": [
       "int"
      ]
     },
     "execution_count": 3,
     "metadata": {},
     "output_type": "execute_result"
    }
   ],
   "source": [
    "type(i)"
   ]
  },
  {
   "cell_type": "code",
   "execution_count": 6,
   "id": "2f3d3b12-e23c-4296-a210-77427b64777c",
   "metadata": {},
   "outputs": [
    {
     "data": {
      "text/plain": [
       "130.43"
      ]
     },
     "execution_count": 6,
     "metadata": {},
     "output_type": "execute_result"
    }
   ],
   "source": [
    "f = 130.43\n",
    "f"
   ]
  },
  {
   "cell_type": "code",
   "execution_count": 7,
   "id": "f7292a17-6d6a-4cd4-b819-dd20ccae55f8",
   "metadata": {},
   "outputs": [
    {
     "data": {
      "text/plain": [
       "float"
      ]
     },
     "execution_count": 7,
     "metadata": {},
     "output_type": "execute_result"
    }
   ],
   "source": [
    "type(f)"
   ]
  },
  {
   "cell_type": "code",
   "execution_count": 8,
   "id": "58274d89-b4b7-4440-baa0-1f793e4af136",
   "metadata": {},
   "outputs": [
    {
     "data": {
      "text/plain": [
       "1.0"
      ]
     },
     "execution_count": 8,
     "metadata": {},
     "output_type": "execute_result"
    }
   ],
   "source": [
    "f1 = 1e0\n",
    "f1"
   ]
  },
  {
   "cell_type": "code",
   "execution_count": 9,
   "id": "9b70b48a-aedb-4088-a6d1-95c97c2b6435",
   "metadata": {},
   "outputs": [
    {
     "data": {
      "text/plain": [
       "10.0"
      ]
     },
     "execution_count": 9,
     "metadata": {},
     "output_type": "execute_result"
    }
   ],
   "source": [
    "f2 = 1e1\n",
    "f2"
   ]
  },
  {
   "cell_type": "code",
   "execution_count": 15,
   "id": "71139692-e501-44a8-b123-d987c367d3fb",
   "metadata": {},
   "outputs": [
    {
     "data": {
      "text/plain": [
       "100.0"
      ]
     },
     "execution_count": 15,
     "metadata": {},
     "output_type": "execute_result"
    }
   ],
   "source": [
    "f2 = 1e2\n",
    "f2"
   ]
  },
  {
   "cell_type": "code",
   "execution_count": 10,
   "id": "e4719b33-c728-4a64-8e29-abbe93cf7cbe",
   "metadata": {},
   "outputs": [
    {
     "data": {
      "text/plain": [
       "1000.0"
      ]
     },
     "execution_count": 10,
     "metadata": {},
     "output_type": "execute_result"
    }
   ],
   "source": [
    "f3 = 1e3\n",
    "f3"
   ]
  },
  {
   "cell_type": "code",
   "execution_count": 11,
   "id": "31e6a8fe-d8f2-44f7-bdc7-495d604c8617",
   "metadata": {},
   "outputs": [
    {
     "data": {
      "text/plain": [
       "10000.0"
      ]
     },
     "execution_count": 11,
     "metadata": {},
     "output_type": "execute_result"
    }
   ],
   "source": [
    "f4 = 1e4\n",
    "f4"
   ]
  },
  {
   "cell_type": "code",
   "execution_count": 14,
   "id": "6c125961-9911-4fa9-9c6c-70926b1c3c6c",
   "metadata": {},
   "outputs": [
    {
     "data": {
      "text/plain": [
       "100.0"
      ]
     },
     "execution_count": 14,
     "metadata": {},
     "output_type": "execute_result"
    }
   ],
   "source": [
    "f2 = 1E2\n",
    "f2"
   ]
  },
  {
   "cell_type": "code",
   "execution_count": 13,
   "id": "9567206b-714e-456a-a4d8-de552ab11322",
   "metadata": {},
   "outputs": [
    {
     "data": {
      "text/plain": [
       "100000.0"
      ]
     },
     "execution_count": 13,
     "metadata": {},
     "output_type": "execute_result"
    }
   ],
   "source": [
    "f5 = 1E5\n",
    "f5"
   ]
  },
  {
   "cell_type": "code",
   "execution_count": 16,
   "id": "134e77ca-f997-405b-ae88-16ccdf45e7a3",
   "metadata": {},
   "outputs": [],
   "source": [
    "a = 10\n",
    "b = 20"
   ]
  },
  {
   "cell_type": "code",
   "execution_count": 23,
   "id": "baac1e26-d62e-4841-a2a7-e8bc5df3a3ab",
   "metadata": {},
   "outputs": [
    {
     "name": "stdout",
     "output_type": "stream",
     "text": [
      "30\n",
      "-10\n",
      "200\n",
      "0.5\n"
     ]
    }
   ],
   "source": [
    "print(a+b)\n",
    "print(a-b)\n",
    "print(a*b)\n",
    "print(a/b)"
   ]
  },
  {
   "cell_type": "code",
   "execution_count": 24,
   "id": "cca3a8a2-de9b-4666-ab3c-457f5bc1bb51",
   "metadata": {},
   "outputs": [
    {
     "data": {
      "text/plain": [
       "6"
      ]
     },
     "execution_count": 24,
     "metadata": {},
     "output_type": "execute_result"
    }
   ],
   "source": [
    "a=3\n",
    "b=6\n",
    "a\n",
    "b"
   ]
  },
  {
   "cell_type": "code",
   "execution_count": 25,
   "id": "88b34426-851d-4f4b-b79f-c13e01d53d83",
   "metadata": {},
   "outputs": [
    {
     "name": "stdout",
     "output_type": "stream",
     "text": [
      "3\n",
      "6\n"
     ]
    }
   ],
   "source": [
    "a=3\n",
    "b=6\n",
    "print(a)\n",
    "print(b)"
   ]
  },
  {
   "cell_type": "code",
   "execution_count": 33,
   "id": "e19f5c78-d55c-46af-a98d-21fd5be72b28",
   "metadata": {},
   "outputs": [
    {
     "name": "stdout",
     "output_type": "stream",
     "text": [
      "3\n",
      "3 6\n",
      "python\n",
      "3 6 python\n"
     ]
    }
   ],
   "source": [
    "print(3)\n",
    "print(3,6)\n",
    "print('python')\n",
    "print(3,6,'python')"
   ]
  },
  {
   "cell_type": "code",
   "execution_count": 34,
   "id": "de9cff75-60f9-4163-b41b-27fdcf7ca2f6",
   "metadata": {},
   "outputs": [
    {
     "name": "stdout",
     "output_type": "stream",
     "text": [
      "3\n",
      "3 6\n",
      "python\n",
      "3 6 python\n"
     ]
    }
   ],
   "source": [
    "     print(3)\n",
    "print(3,6)\n",
    "print('python')\n",
    "print(3,6,'python')"
   ]
  },
  {
   "cell_type": "code",
   "execution_count": 35,
   "id": "6ee31904-b9ae-4acd-b850-7e86c80617df",
   "metadata": {},
   "outputs": [
    {
     "name": "stdout",
     "output_type": "stream",
     "text": [
      "500\n"
     ]
    }
   ],
   "source": [
    "num1 = 100\n",
    "num2 = 400\n",
    "add=num1+num2\n",
    "print(add)"
   ]
  },
  {
   "cell_type": "code",
   "execution_count": 36,
   "id": "3b9943c9-023a-48f6-b76f-ee468878c9b1",
   "metadata": {},
   "outputs": [
    {
     "name": "stdout",
     "output_type": "stream",
     "text": [
      "500\n"
     ]
    }
   ],
   "source": [
    "num1 = 100\n",
    "num2 = 400\n",
    "print(num1+num2)"
   ]
  },
  {
   "cell_type": "code",
   "execution_count": 37,
   "id": "a6333bfb-7886-4df1-aa52-4bd4b0a1f8ef",
   "metadata": {},
   "outputs": [
    {
     "name": "stdout",
     "output_type": "stream",
     "text": [
      "The addition of 100 and 400 is=\n"
     ]
    }
   ],
   "source": [
    "num1 = 100\n",
    "num2 = 400\n",
    "add=num1+num2\n",
    "print('The addition of',num1,'and',num2,'is=')"
   ]
  },
  {
   "cell_type": "code",
   "execution_count": 52,
   "id": "c30b9193-047b-437e-be03-de6d5f231be0",
   "metadata": {},
   "outputs": [
    {
     "name": "stdout",
     "output_type": "stream",
     "text": [
      "The subtract of 100 and 400 is= -300\n"
     ]
    }
   ],
   "source": [
    "num1 = 100\n",
    "num2 = 400\n",
    "sub=num1-num2\n",
    "print('The subtract of',num1,'and',num2,'is=',sub)"
   ]
  },
  {
   "cell_type": "code",
   "execution_count": 39,
   "id": "b10187e3-4fbe-494a-8a37-cc8dfc1c0511",
   "metadata": {},
   "outputs": [
    {
     "name": "stdout",
     "output_type": "stream",
     "text": [
      "The addition of 100 and 400 is= 500\n"
     ]
    }
   ],
   "source": [
    "num1 = 100\n",
    "num2 = 400\n",
    "add=num1+num2\n",
    "print('The addition of',num1,'and',num2,'is=',add)"
   ]
  },
  {
   "cell_type": "code",
   "execution_count": 40,
   "id": "88fb24e2-1058-48e8-bc60-3621162d4a2f",
   "metadata": {},
   "outputs": [],
   "source": [
    "name='python'\n",
    "age=20\n",
    "city='nizamabad'"
   ]
  },
  {
   "cell_type": "code",
   "execution_count": 48,
   "id": "dc5057e9-66cd-4da5-a835-c7e7d70f6868",
   "metadata": {},
   "outputs": [
    {
     "name": "stdout",
     "output_type": "stream",
     "text": [
      "my name is python i am 20 years old from nizamabad\n"
     ]
    }
   ],
   "source": [
    "print('my name is',name,'i am',age,'years old from',city)"
   ]
  },
  {
   "cell_type": "code",
   "execution_count": 47,
   "id": "9753d2d9-4ed7-4d9f-a0f2-5cccb54d84e6",
   "metadata": {},
   "outputs": [
    {
     "name": "stdout",
     "output_type": "stream",
     "text": [
      "my name is python\n",
      "i am 20\n",
      "years old,from nizamabad\n"
     ]
    }
   ],
   "source": [
    "print('my name is',name)\n",
    "print('i am',age)\n",
    "print('years old,from',city)"
   ]
  },
  {
   "cell_type": "code",
   "execution_count": 54,
   "id": "8ede3cfb-54af-4eb5-be27-deea4e819579",
   "metadata": {},
   "outputs": [
    {
     "name": "stdout",
     "output_type": "stream",
     "text": [
      "the addition of 35 and 45 is= 80\n"
     ]
    }
   ],
   "source": [
    "num1=35\n",
    "num2=45\n",
    "add=num1+num2\n",
    "print('the addition of {} and {} is= {}'.format(num1,num2,add))"
   ]
  },
  {
   "cell_type": "code",
   "execution_count": 55,
   "id": "856dc309-6d0b-4c6a-8036-8370449e77a8",
   "metadata": {},
   "outputs": [
    {
     "name": "stdout",
     "output_type": "stream",
     "text": [
      "the addition of 35 and 45 and 55 is= 135\n"
     ]
    }
   ],
   "source": [
    "num1=35\n",
    "num2=45\n",
    "num3=55\n",
    "add=num1+num2+num3\n",
    "print('the addition of {} and {} and {} is= {}'.format(num1,num2,num3,add))"
   ]
  },
  {
   "cell_type": "code",
   "execution_count": 56,
   "id": "d68eaa82-122a-43f3-aed7-878aaedaf07c",
   "metadata": {},
   "outputs": [
    {
     "data": {
      "text/plain": [
       "(1+3j)"
      ]
     },
     "execution_count": 56,
     "metadata": {},
     "output_type": "execute_result"
    }
   ],
   "source": [
    "c=1+3j\n",
    "c"
   ]
  },
  {
   "cell_type": "code",
   "execution_count": 57,
   "id": "dfa2eed1-c3f4-47fc-801e-53e84830627f",
   "metadata": {},
   "outputs": [
    {
     "data": {
      "text/plain": [
       "complex"
      ]
     },
     "execution_count": 57,
     "metadata": {},
     "output_type": "execute_result"
    }
   ],
   "source": [
    "type(c)"
   ]
  },
  {
   "cell_type": "code",
   "execution_count": 58,
   "id": "0af1bcfa-65bf-41f6-b2a4-b99740707a3e",
   "metadata": {},
   "outputs": [
    {
     "data": {
      "text/plain": [
       "(1+3j)"
      ]
     },
     "execution_count": 58,
     "metadata": {},
     "output_type": "execute_result"
    }
   ],
   "source": [
    "c"
   ]
  },
  {
   "cell_type": "code",
   "execution_count": 59,
   "id": "777f13c8-0ea2-44da-b208-6e922ec66fed",
   "metadata": {},
   "outputs": [
    {
     "data": {
      "text/plain": [
       "1.0"
      ]
     },
     "execution_count": 59,
     "metadata": {},
     "output_type": "execute_result"
    }
   ],
   "source": [
    "c.real"
   ]
  },
  {
   "cell_type": "code",
   "execution_count": 60,
   "id": "d9169552-c066-4860-8de9-e0b4cc15f594",
   "metadata": {},
   "outputs": [
    {
     "ename": "AttributeError",
     "evalue": "'complex' object has no attribute 'image'",
     "output_type": "error",
     "traceback": [
      "\u001b[1;31m---------------------------------------------------------------------------\u001b[0m",
      "\u001b[1;31mAttributeError\u001b[0m                            Traceback (most recent call last)",
      "Cell \u001b[1;32mIn[60], line 1\u001b[0m\n\u001b[1;32m----> 1\u001b[0m c\u001b[38;5;241m.\u001b[39mimage\n",
      "\u001b[1;31mAttributeError\u001b[0m: 'complex' object has no attribute 'image'"
     ]
    }
   ],
   "source": [
    "c.image"
   ]
  },
  {
   "cell_type": "code",
   "execution_count": 61,
   "id": "b23a56b4-1e85-40ff-93ce-3c2694250fe4",
   "metadata": {},
   "outputs": [
    {
     "data": {
      "text/plain": [
       "3.0"
      ]
     },
     "execution_count": 61,
     "metadata": {},
     "output_type": "execute_result"
    }
   ],
   "source": [
    "c.imag"
   ]
  },
  {
   "cell_type": "code",
   "execution_count": 62,
   "id": "c0414eea-6c44-441c-a248-bdfcfffdee00",
   "metadata": {},
   "outputs": [
    {
     "name": "stdout",
     "output_type": "stream",
     "text": [
      "(8+50j)\n",
      "(2+10j)\n"
     ]
    }
   ],
   "source": [
    "c=5+30j\n",
    "d=3+20j\n",
    "print(c+d)\n",
    "print(c-d)"
   ]
  },
  {
   "cell_type": "markdown",
   "id": "5240a62d-2cde-44ea-8603-d36c35d39c14",
   "metadata": {},
   "source": [
    "a=4\n",
    "type(a)"
   ]
  },
  {
   "cell_type": "code",
   "execution_count": 67,
   "id": "aaedf527-2f6e-455e-905a-086e029a7278",
   "metadata": {},
   "outputs": [
    {
     "data": {
      "text/plain": [
       "complex"
      ]
     },
     "execution_count": 67,
     "metadata": {},
     "output_type": "execute_result"
    }
   ],
   "source": [
    "a = 4+2j\n",
    "type(a)"
   ]
  },
  {
   "cell_type": "code",
   "execution_count": 70,
   "id": "899ec495-4253-40c8-9e74-3b132620bb21",
   "metadata": {},
   "outputs": [],
   "source": [
    "def team():\n",
    "    print('hello')"
   ]
  },
  {
   "cell_type": "code",
   "execution_count": 71,
   "id": "6c55aebc-4049-4a5d-ba4a-03039bd162c2",
   "metadata": {},
   "outputs": [
    {
     "data": {
      "text/plain": [
       "(4+2j)"
      ]
     },
     "execution_count": 71,
     "metadata": {},
     "output_type": "execute_result"
    }
   ],
   "source": [
    "a = 4+2J\n",
    "a"
   ]
  },
  {
   "cell_type": "code",
   "execution_count": 72,
   "id": "152db980-b0d0-447d-8d53-dac949df8bd5",
   "metadata": {},
   "outputs": [
    {
     "ename": "NameError",
     "evalue": "name 'a1' is not defined",
     "output_type": "error",
     "traceback": [
      "\u001b[1;31m---------------------------------------------------------------------------\u001b[0m",
      "\u001b[1;31mNameError\u001b[0m                                 Traceback (most recent call last)",
      "Cell \u001b[1;32mIn[72], line 1\u001b[0m\n\u001b[1;32m----> 1\u001b[0m a1\n\u001b[0;32m      2\u001b[0m a1\u001b[38;5;241m=\u001b[39m \u001b[38;5;241m4\u001b[39m\u001b[38;5;241m+\u001b[39m\u001b[38;5;241m2\u001b[39mJ\n",
      "\u001b[1;31mNameError\u001b[0m: name 'a1' is not defined"
     ]
    }
   ],
   "source": [
    "a1\n",
    "a1= 4+2J"
   ]
  },
  {
   "cell_type": "code",
   "execution_count": 73,
   "id": "8527c61c-f2e0-4dd1-8e49-af12bab9292d",
   "metadata": {},
   "outputs": [
    {
     "data": {
      "text/plain": [
       "(4+2j)"
      ]
     },
     "execution_count": 73,
     "metadata": {},
     "output_type": "execute_result"
    }
   ],
   "source": [
    "a1= 4+2J\n",
    "a1"
   ]
  },
  {
   "cell_type": "code",
   "execution_count": 74,
   "id": "e2f2e8f5-1960-43b5-ada0-0d55b8209d6e",
   "metadata": {},
   "outputs": [
    {
     "data": {
      "text/plain": [
       "True"
      ]
     },
     "execution_count": 74,
     "metadata": {},
     "output_type": "execute_result"
    }
   ],
   "source": [
    "b = True\n",
    "b"
   ]
  },
  {
   "cell_type": "code",
   "execution_count": 76,
   "id": "114eeea5-844e-4c44-8c11-2174487ad0e6",
   "metadata": {},
   "outputs": [
    {
     "data": {
      "text/plain": [
       "False"
      ]
     },
     "execution_count": 76,
     "metadata": {},
     "output_type": "execute_result"
    }
   ],
   "source": [
    "b1 = False\n",
    "b1"
   ]
  },
  {
   "cell_type": "code",
   "execution_count": 77,
   "id": "63efea9c-0a1e-4eb1-9bbf-532c0f2f7a1a",
   "metadata": {},
   "outputs": [
    {
     "data": {
      "text/plain": [
       "2"
      ]
     },
     "execution_count": 77,
     "metadata": {},
     "output_type": "execute_result"
    }
   ],
   "source": [
    "True + True"
   ]
  },
  {
   "cell_type": "code",
   "execution_count": 78,
   "id": "ea400c18-6b05-45f4-8a4a-46435ddb6f12",
   "metadata": {},
   "outputs": [
    {
     "data": {
      "text/plain": [
       "0"
      ]
     },
     "execution_count": 78,
     "metadata": {},
     "output_type": "execute_result"
    }
   ],
   "source": [
    "False+False"
   ]
  },
  {
   "cell_type": "code",
   "execution_count": 79,
   "id": "0b916cdf-b9ea-4589-b7b8-b463a634df51",
   "metadata": {},
   "outputs": [
    {
     "data": {
      "text/plain": [
       "1"
      ]
     },
     "execution_count": 79,
     "metadata": {},
     "output_type": "execute_result"
    }
   ],
   "source": [
    "int(True)"
   ]
  },
  {
   "cell_type": "code",
   "execution_count": 80,
   "id": "9aae1e2d-1a4a-4593-bd7e-8f0fcb3d3e36",
   "metadata": {},
   "outputs": [
    {
     "data": {
      "text/plain": [
       "0"
      ]
     },
     "execution_count": 80,
     "metadata": {},
     "output_type": "execute_result"
    }
   ],
   "source": [
    "int(False)"
   ]
  },
  {
   "cell_type": "code",
   "execution_count": 81,
   "id": "89b55ddb-50f4-401c-a53c-e784cf9cc2d5",
   "metadata": {},
   "outputs": [
    {
     "data": {
      "text/plain": [
       "1"
      ]
     },
     "execution_count": 81,
     "metadata": {},
     "output_type": "execute_result"
    }
   ],
   "source": [
    "True-False"
   ]
  },
  {
   "cell_type": "code",
   "execution_count": 82,
   "id": "342756fa-1f41-443f-81a7-1588c4ccce20",
   "metadata": {},
   "outputs": [
    {
     "data": {
      "text/plain": [
       "-1"
      ]
     },
     "execution_count": 82,
     "metadata": {},
     "output_type": "execute_result"
    }
   ],
   "source": [
    "False-True"
   ]
  },
  {
   "cell_type": "code",
   "execution_count": 83,
   "id": "0e285e37-ef0e-44c4-8027-4300c1f032d6",
   "metadata": {},
   "outputs": [
    {
     "data": {
      "text/plain": [
       "2"
      ]
     },
     "execution_count": 83,
     "metadata": {},
     "output_type": "execute_result"
    }
   ],
   "source": [
    "True-True*False+1"
   ]
  },
  {
   "cell_type": "code",
   "execution_count": 86,
   "id": "d4ddeaaf-756d-476a-9ba9-2801c9752ea4",
   "metadata": {},
   "outputs": [
    {
     "data": {
      "text/plain": [
       "2"
      ]
     },
     "execution_count": 86,
     "metadata": {},
     "output_type": "execute_result"
    }
   ],
   "source": [
    "True-True*False+False*True+True"
   ]
  },
  {
   "cell_type": "code",
   "execution_count": 1,
   "id": "e6162600-d41c-47db-963d-aed640fc5ab7",
   "metadata": {},
   "outputs": [
    {
     "data": {
      "text/plain": [
       "2"
      ]
     },
     "execution_count": 1,
     "metadata": {},
     "output_type": "execute_result"
    }
   ],
   "source": [
    "int(2.6)"
   ]
  },
  {
   "cell_type": "code",
   "execution_count": 2,
   "id": "337ae1c7-d520-48e5-b58e-840ccef79e95",
   "metadata": {},
   "outputs": [
    {
     "data": {
      "text/plain": [
       "4"
      ]
     },
     "execution_count": 2,
     "metadata": {},
     "output_type": "execute_result"
    }
   ],
   "source": [
    "int(4.567)"
   ]
  },
  {
   "cell_type": "code",
   "execution_count": 4,
   "id": "b8df282d-acde-46e9-962e-c919c0b85018",
   "metadata": {},
   "outputs": [
    {
     "name": "stdout",
     "output_type": "stream",
     "text": [
      "2\n",
      "1\n",
      "1\n"
     ]
    }
   ],
   "source": [
    "print(int(2.5))\n",
    "print(int(True))\n",
    "print(int('1'))"
   ]
  },
  {
   "cell_type": "code",
   "execution_count": 5,
   "id": "efce9763-108a-42f2-b1fb-95bea914dc32",
   "metadata": {},
   "outputs": [
    {
     "ename": "TypeError",
     "evalue": "int() argument must be a string, a bytes-like object or a real number, not 'complex'",
     "output_type": "error",
     "traceback": [
      "\u001b[1;31m---------------------------------------------------------------------------\u001b[0m",
      "\u001b[1;31mTypeError\u001b[0m                                 Traceback (most recent call last)",
      "Cell \u001b[1;32mIn[5], line 1\u001b[0m\n\u001b[1;32m----> 1\u001b[0m \u001b[38;5;28mprint\u001b[39m(\u001b[38;5;28mint\u001b[39m(\u001b[38;5;241m1\u001b[39m\u001b[38;5;241m+\u001b[39m\u001b[38;5;241m3\u001b[39mj))\n",
      "\u001b[1;31mTypeError\u001b[0m: int() argument must be a string, a bytes-like object or a real number, not 'complex'"
     ]
    }
   ],
   "source": [
    "print(int(1+3j))"
   ]
  },
  {
   "cell_type": "markdown",
   "id": "b0151d59-e188-4f62-97d5-5e374219990c",
   "metadata": {},
   "source": [
    "int('one')"
   ]
  },
  {
   "cell_type": "code",
   "execution_count": 7,
   "id": "11362fc3-8047-40dd-bfff-18d4d6c4b51e",
   "metadata": {},
   "outputs": [
    {
     "data": {
      "text/plain": [
       "1"
      ]
     },
     "execution_count": 7,
     "metadata": {},
     "output_type": "execute_result"
    }
   ],
   "source": [
    "int('1')"
   ]
  },
  {
   "cell_type": "code",
   "execution_count": 8,
   "id": "62aec157-c4a5-468f-83a1-f678f39d8a36",
   "metadata": {},
   "outputs": [
    {
     "name": "stdout",
     "output_type": "stream",
     "text": [
      "2.0\n"
     ]
    }
   ],
   "source": [
    "print(float(2))\n"
   ]
  },
  {
   "cell_type": "code",
   "execution_count": 9,
   "id": "e5f2f053-2969-4355-90a0-78009032755f",
   "metadata": {},
   "outputs": [
    {
     "name": "stdout",
     "output_type": "stream",
     "text": [
      "0.0\n"
     ]
    }
   ],
   "source": [
    "print(float(False))"
   ]
  },
  {
   "cell_type": "code",
   "execution_count": 10,
   "id": "b4cb7789-6a70-4614-987a-004992126048",
   "metadata": {},
   "outputs": [
    {
     "ename": "TypeError",
     "evalue": "float() argument must be a string or a real number, not 'complex'",
     "output_type": "error",
     "traceback": [
      "\u001b[1;31m---------------------------------------------------------------------------\u001b[0m",
      "\u001b[1;31mTypeError\u001b[0m                                 Traceback (most recent call last)",
      "Cell \u001b[1;32mIn[10], line 1\u001b[0m\n\u001b[1;32m----> 1\u001b[0m \u001b[38;5;28mprint\u001b[39m(\u001b[38;5;28mfloat\u001b[39m(\u001b[38;5;241m2\u001b[39m\u001b[38;5;241m+\u001b[39m\u001b[38;5;241m3\u001b[39mj))\n",
      "\u001b[1;31mTypeError\u001b[0m: float() argument must be a string or a real number, not 'complex'"
     ]
    }
   ],
   "source": [
    "print(float(2+3j))"
   ]
  },
  {
   "cell_type": "code",
   "execution_count": 11,
   "id": "dbc386b6-3545-4671-92be-9b04ac90dd37",
   "metadata": {},
   "outputs": [
    {
     "ename": "ValueError",
     "evalue": "could not convert string to float: 'two'",
     "output_type": "error",
     "traceback": [
      "\u001b[1;31m---------------------------------------------------------------------------\u001b[0m",
      "\u001b[1;31mValueError\u001b[0m                                Traceback (most recent call last)",
      "Cell \u001b[1;32mIn[11], line 1\u001b[0m\n\u001b[1;32m----> 1\u001b[0m \u001b[38;5;28mprint\u001b[39m(\u001b[38;5;28mfloat\u001b[39m(\u001b[38;5;124m'\u001b[39m\u001b[38;5;124mtwo\u001b[39m\u001b[38;5;124m'\u001b[39m))\n",
      "\u001b[1;31mValueError\u001b[0m: could not convert string to float: 'two'"
     ]
    }
   ],
   "source": [
    "print(float('two'))"
   ]
  },
  {
   "cell_type": "code",
   "execution_count": 12,
   "id": "1c14c437-24e5-48cf-8a6a-fb39007c6b16",
   "metadata": {},
   "outputs": [
    {
     "name": "stdout",
     "output_type": "stream",
     "text": [
      "2.0\n"
     ]
    }
   ],
   "source": [
    "print(float(2))"
   ]
  },
  {
   "cell_type": "code",
   "execution_count": 13,
   "id": "046798f2-57d3-4e36-bce9-f6d2da2322c0",
   "metadata": {},
   "outputs": [
    {
     "data": {
      "text/plain": [
       "(10+0j)"
      ]
     },
     "execution_count": 13,
     "metadata": {},
     "output_type": "execute_result"
    }
   ],
   "source": [
    "complex(10)"
   ]
  },
  {
   "cell_type": "code",
   "execution_count": 14,
   "id": "9b0b18d4-61a1-4903-9b5f-4d887fa8949b",
   "metadata": {},
   "outputs": [
    {
     "data": {
      "text/plain": [
       "(10+20j)"
      ]
     },
     "execution_count": 14,
     "metadata": {},
     "output_type": "execute_result"
    }
   ],
   "source": [
    "complex(10,20)"
   ]
  },
  {
   "cell_type": "code",
   "execution_count": 15,
   "id": "e204c76f-2d37-43bd-99df-74279988dcda",
   "metadata": {},
   "outputs": [
    {
     "ename": "TypeError",
     "evalue": "complex() takes at most 2 arguments (3 given)",
     "output_type": "error",
     "traceback": [
      "\u001b[1;31m---------------------------------------------------------------------------\u001b[0m",
      "\u001b[1;31mTypeError\u001b[0m                                 Traceback (most recent call last)",
      "Cell \u001b[1;32mIn[15], line 1\u001b[0m\n\u001b[1;32m----> 1\u001b[0m \u001b[38;5;28mcomplex\u001b[39m(\u001b[38;5;241m10\u001b[39m,\u001b[38;5;241m20\u001b[39m,\u001b[38;5;241m40\u001b[39m)\n",
      "\u001b[1;31mTypeError\u001b[0m: complex() takes at most 2 arguments (3 given)"
     ]
    }
   ],
   "source": [
    "complex(10,20,40)"
   ]
  },
  {
   "cell_type": "code",
   "execution_count": 16,
   "id": "53f542ae-e039-416e-802d-a8495bb4d3bc",
   "metadata": {},
   "outputs": [
    {
     "ename": "TypeError",
     "evalue": "complex() takes at most 2 arguments (3 given)",
     "output_type": "error",
     "traceback": [
      "\u001b[1;31m---------------------------------------------------------------------------\u001b[0m",
      "\u001b[1;31mTypeError\u001b[0m                                 Traceback (most recent call last)",
      "Cell \u001b[1;32mIn[16], line 1\u001b[0m\n\u001b[1;32m----> 1\u001b[0m \u001b[38;5;28mcomplex\u001b[39m(\u001b[38;5;241m2.4\u001b[39m,\u001b[38;5;241m3\u001b[39m,\u001b[38;5;241m5\u001b[39m)\n",
      "\u001b[1;31mTypeError\u001b[0m: complex() takes at most 2 arguments (3 given)"
     ]
    }
   ],
   "source": [
    "complex(2.4,3,5)"
   ]
  },
  {
   "cell_type": "code",
   "execution_count": 17,
   "id": "048500cf-dce4-4f8c-a609-937c75c13e6e",
   "metadata": {},
   "outputs": [
    {
     "data": {
      "text/plain": [
       "(2.4+3.5j)"
      ]
     },
     "execution_count": 17,
     "metadata": {},
     "output_type": "execute_result"
    }
   ],
   "source": [
    "complex(2.4,3.5)"
   ]
  },
  {
   "cell_type": "code",
   "execution_count": 18,
   "id": "c2b8f4f1-1dd5-42b7-bd88-56e61a81e3bb",
   "metadata": {},
   "outputs": [
    {
     "data": {
      "text/plain": [
       "(2+3.5j)"
      ]
     },
     "execution_count": 18,
     "metadata": {},
     "output_type": "execute_result"
    }
   ],
   "source": [
    "complex(2,3.5)"
   ]
  },
  {
   "cell_type": "code",
   "execution_count": 19,
   "id": "4049a8bf-a071-4039-934d-ed09dc33f46f",
   "metadata": {},
   "outputs": [
    {
     "data": {
      "text/plain": [
       "0j"
      ]
     },
     "execution_count": 19,
     "metadata": {},
     "output_type": "execute_result"
    }
   ],
   "source": [
    "complex(False,False)"
   ]
  },
  {
   "cell_type": "code",
   "execution_count": 20,
   "id": "53faa1e4-1b93-4c17-bdbc-61bba2d9f4c3",
   "metadata": {},
   "outputs": [
    {
     "ename": "TypeError",
     "evalue": "complex() can't take second arg if first is a string",
     "output_type": "error",
     "traceback": [
      "\u001b[1;31m---------------------------------------------------------------------------\u001b[0m",
      "\u001b[1;31mTypeError\u001b[0m                                 Traceback (most recent call last)",
      "Cell \u001b[1;32mIn[20], line 1\u001b[0m\n\u001b[1;32m----> 1\u001b[0m \u001b[38;5;28mcomplex\u001b[39m(\u001b[38;5;124m'\u001b[39m\u001b[38;5;124m1\u001b[39m\u001b[38;5;124m'\u001b[39m,\u001b[38;5;241m24\u001b[39m)\n",
      "\u001b[1;31mTypeError\u001b[0m: complex() can't take second arg if first is a string"
     ]
    }
   ],
   "source": [
    "complex('1',24)"
   ]
  },
  {
   "cell_type": "code",
   "execution_count": 21,
   "id": "7b84532d-8b0f-435c-a22b-0b414f641ec0",
   "metadata": {},
   "outputs": [
    {
     "ename": "TypeError",
     "evalue": "complex() second arg can't be a string",
     "output_type": "error",
     "traceback": [
      "\u001b[1;31m---------------------------------------------------------------------------\u001b[0m",
      "\u001b[1;31mTypeError\u001b[0m                                 Traceback (most recent call last)",
      "Cell \u001b[1;32mIn[21], line 1\u001b[0m\n\u001b[1;32m----> 1\u001b[0m \u001b[38;5;28mcomplex\u001b[39m(\u001b[38;5;241m1\u001b[39m,\u001b[38;5;124m'\u001b[39m\u001b[38;5;124m24\u001b[39m\u001b[38;5;124m'\u001b[39m)\n",
      "\u001b[1;31mTypeError\u001b[0m: complex() second arg can't be a string"
     ]
    }
   ],
   "source": [
    "complex(1,'24')"
   ]
  },
  {
   "cell_type": "code",
   "execution_count": 22,
   "id": "57d8ef5c-cb43-4071-894a-15620ce50e67",
   "metadata": {},
   "outputs": [
    {
     "ename": "TypeError",
     "evalue": "complex() can't take second arg if first is a string",
     "output_type": "error",
     "traceback": [
      "\u001b[1;31m---------------------------------------------------------------------------\u001b[0m",
      "\u001b[1;31mTypeError\u001b[0m                                 Traceback (most recent call last)",
      "Cell \u001b[1;32mIn[22], line 1\u001b[0m\n\u001b[1;32m----> 1\u001b[0m \u001b[38;5;28mcomplex\u001b[39m(\u001b[38;5;124m'\u001b[39m\u001b[38;5;124m1\u001b[39m\u001b[38;5;124m'\u001b[39m,\u001b[38;5;124m'\u001b[39m\u001b[38;5;124m24\u001b[39m\u001b[38;5;124m'\u001b[39m)\n",
      "\u001b[1;31mTypeError\u001b[0m: complex() can't take second arg if first is a string"
     ]
    }
   ],
   "source": [
    "complex('1','24')"
   ]
  },
  {
   "cell_type": "code",
   "execution_count": 23,
   "id": "84159438-ea46-4a82-b28d-b0cc4e3c5177",
   "metadata": {},
   "outputs": [
    {
     "data": {
      "text/plain": [
       "(1+24j)"
      ]
     },
     "execution_count": 23,
     "metadata": {},
     "output_type": "execute_result"
    }
   ],
   "source": [
    "complex(1,24)"
   ]
  },
  {
   "cell_type": "code",
   "execution_count": 24,
   "id": "07228772-ca1a-44d1-ac82-1e4cedb45452",
   "metadata": {},
   "outputs": [
    {
     "data": {
      "text/plain": [
       "(1+0j)"
      ]
     },
     "execution_count": 24,
     "metadata": {},
     "output_type": "execute_result"
    }
   ],
   "source": [
    "complex('1')"
   ]
  },
  {
   "cell_type": "code",
   "execution_count": 25,
   "id": "c9339488-d7b8-4815-b62a-ac67e5a86cf7",
   "metadata": {},
   "outputs": [
    {
     "ename": "SyntaxError",
     "evalue": "incomplete input (2648794736.py, line 1)",
     "output_type": "error",
     "traceback": [
      "\u001b[1;36m  Cell \u001b[1;32mIn[25], line 1\u001b[1;36m\u001b[0m\n\u001b[1;33m    print(bool(1)\u001b[0m\n\u001b[1;37m                 ^\u001b[0m\n\u001b[1;31mSyntaxError\u001b[0m\u001b[1;31m:\u001b[0m incomplete input\n"
     ]
    }
   ],
   "source": [
    "print(bool(1)"
   ]
  },
  {
   "cell_type": "code",
   "execution_count": 26,
   "id": "ca701cdb-739b-4b81-8466-91801b8b9f65",
   "metadata": {},
   "outputs": [
    {
     "name": "stdout",
     "output_type": "stream",
     "text": [
      "True\n",
      "True\n",
      "True\n",
      "True\n"
     ]
    }
   ],
   "source": [
    "print(bool(1))\n",
    "print(bool(1.1))\n",
    "print(bool(1+2j))\n",
    "print(bool('nit'))"
   ]
  },
  {
   "cell_type": "code",
   "execution_count": 30,
   "id": "a126b044-edfb-4135-8d92-13bc2807dab1",
   "metadata": {},
   "outputs": [
    {
     "data": {
      "text/plain": [
       "False"
      ]
     },
     "execution_count": 30,
     "metadata": {},
     "output_type": "execute_result"
    }
   ],
   "source": [
    "bool( )"
   ]
  },
  {
   "cell_type": "code",
   "execution_count": 31,
   "id": "1f0ed373-2bc8-4020-9ecf-c9d7fb72b45d",
   "metadata": {},
   "outputs": [
    {
     "data": {
      "text/plain": [
       "'2'"
      ]
     },
     "execution_count": 31,
     "metadata": {},
     "output_type": "execute_result"
    }
   ],
   "source": [
    "str(2)"
   ]
  },
  {
   "cell_type": "code",
   "execution_count": 32,
   "id": "172d1c28-8d92-41f7-9906-69cdcf06f241",
   "metadata": {},
   "outputs": [
    {
     "data": {
      "text/plain": [
       "'2.3'"
      ]
     },
     "execution_count": 32,
     "metadata": {},
     "output_type": "execute_result"
    }
   ],
   "source": [
    "str(2.3)"
   ]
  },
  {
   "cell_type": "code",
   "execution_count": 33,
   "id": "35f23b4b-fa58-4e22-87ff-4d7e8b0c9f64",
   "metadata": {},
   "outputs": [
    {
     "data": {
      "text/plain": [
       "'True'"
      ]
     },
     "execution_count": 33,
     "metadata": {},
     "output_type": "execute_result"
    }
   ],
   "source": [
    "str(True)"
   ]
  },
  {
   "cell_type": "code",
   "execution_count": 34,
   "id": "469cbc6b-b0b4-41b8-afa2-3b072f2738df",
   "metadata": {},
   "outputs": [
    {
     "data": {
      "text/plain": [
       "'(1+3j)'"
      ]
     },
     "execution_count": 34,
     "metadata": {},
     "output_type": "execute_result"
    }
   ],
   "source": [
    "str(1+3j)"
   ]
  },
  {
   "cell_type": "code",
   "execution_count": 139,
   "id": "5a96d189-d749-4952-953c-afeb71229b43",
   "metadata": {},
   "outputs": [],
   "source": [
    "l1=[]"
   ]
  },
  {
   "cell_type": "code",
   "execution_count": 140,
   "id": "53bf8666-f93d-4510-8fa0-30e54ea6798e",
   "metadata": {},
   "outputs": [
    {
     "name": "stdout",
     "output_type": "stream",
     "text": [
      "<class 'list'>\n"
     ]
    }
   ],
   "source": [
    "print(type(l1))"
   ]
  },
  {
   "cell_type": "code",
   "execution_count": 141,
   "id": "c3843936-b09e-45fe-98a6-4f7893117bc1",
   "metadata": {},
   "outputs": [],
   "source": [
    "l2=[28,94,52]"
   ]
  },
  {
   "cell_type": "code",
   "execution_count": 142,
   "id": "d422b296-bad2-45a2-ba6e-10b494417717",
   "metadata": {},
   "outputs": [],
   "source": [
    "l3=[1,6,85]"
   ]
  },
  {
   "cell_type": "code",
   "execution_count": 143,
   "id": "b748a6f7-8573-4793-8d10-041eb5271248",
   "metadata": {},
   "outputs": [],
   "source": [
    "l4=['one','two','three','four']"
   ]
  },
  {
   "cell_type": "code",
   "execution_count": 144,
   "id": "3c1fdcb7-b967-45a8-88c2-227a8cadfbdb",
   "metadata": {},
   "outputs": [
    {
     "data": {
      "text/plain": [
       "3"
      ]
     },
     "execution_count": 144,
     "metadata": {},
     "output_type": "execute_result"
    }
   ],
   "source": [
    "len(l3)"
   ]
  },
  {
   "cell_type": "code",
   "execution_count": 145,
   "id": "730e7a02-dbb6-47f8-bfd9-b8baf0bc996d",
   "metadata": {},
   "outputs": [
    {
     "data": {
      "text/plain": [
       "52"
      ]
     },
     "execution_count": 145,
     "metadata": {},
     "output_type": "execute_result"
    }
   ],
   "source": [
    "l2[2]"
   ]
  },
  {
   "cell_type": "code",
   "execution_count": 146,
   "id": "8a92b2c3-20e1-4f9c-8c5b-623e6fd72930",
   "metadata": {},
   "outputs": [
    {
     "data": {
      "text/plain": [
       "'one'"
      ]
     },
     "execution_count": 146,
     "metadata": {},
     "output_type": "execute_result"
    }
   ],
   "source": [
    "l4[0]"
   ]
  },
  {
   "cell_type": "code",
   "execution_count": 147,
   "id": "070c4c2d-bf73-42e8-9ccf-31d564aa4f11",
   "metadata": {},
   "outputs": [],
   "source": [
    "x = ['one' , 'two' , 'three' , 'four' , 'five' , 'six' , 'seven' , 'eight']"
   ]
  },
  {
   "cell_type": "code",
   "execution_count": 148,
   "id": "848e9abf-1e5b-4e96-959f-a68894b1967d",
   "metadata": {},
   "outputs": [
    {
     "data": {
      "text/plain": [
       "['three', 'four', 'five', 'six', 'seven']"
      ]
     },
     "execution_count": 148,
     "metadata": {},
     "output_type": "execute_result"
    }
   ],
   "source": [
    "x[2:7]"
   ]
  },
  {
   "cell_type": "code",
   "execution_count": 149,
   "id": "bd2613a5-87ba-4aec-8775-a1d9ab1baf99",
   "metadata": {},
   "outputs": [
    {
     "data": {
      "text/plain": [
       "['one', 'two', 'three', 'four', 'five', 'six', 'seven', 'eight', 'nine']"
      ]
     },
     "execution_count": 149,
     "metadata": {},
     "output_type": "execute_result"
    }
   ],
   "source": [
    "x.append('nine')\n",
    "x"
   ]
  },
  {
   "cell_type": "code",
   "execution_count": 152,
   "id": "a13a75e1-7c6f-44f0-8f66-6c6e0f73d55a",
   "metadata": {},
   "outputs": [
    {
     "data": {
      "text/plain": [
       "['one',\n",
       " 'two',\n",
       " 'three',\n",
       " 'four',\n",
       " 'five',\n",
       " 'six',\n",
       " 'ten',\n",
       " 'seven',\n",
       " 'eight',\n",
       " 'nine',\n",
       " 'ten']"
      ]
     },
     "execution_count": 152,
     "metadata": {},
     "output_type": "execute_result"
    }
   ],
   "source": [
    "x.insert(11,'ten')\n",
    "x"
   ]
  },
  {
   "cell_type": "code",
   "execution_count": 153,
   "id": "361a1122-c061-4356-a855-e1c21f422f2a",
   "metadata": {},
   "outputs": [
    {
     "data": {
      "text/plain": [
       "['one', 'two', 'three', 'four', 'five', 'six', 'seven', 'eight', 'nine', 'ten']"
      ]
     },
     "execution_count": 153,
     "metadata": {},
     "output_type": "execute_result"
    }
   ],
   "source": [
    "x.remove('ten')\n",
    "x"
   ]
  },
  {
   "cell_type": "code",
   "execution_count": 154,
   "id": "ce1a60a7-acf4-4f59-b223-9260628944b2",
   "metadata": {},
   "outputs": [
    {
     "data": {
      "text/plain": [
       "['one', 'two', 'three', 'four', 'five', 'six', 'seven', 'eight', 'nine']"
      ]
     },
     "execution_count": 154,
     "metadata": {},
     "output_type": "execute_result"
    }
   ],
   "source": [
    "x.pop()\n",
    "x"
   ]
  },
  {
   "cell_type": "code",
   "execution_count": 160,
   "id": "4cd76c50-e5d2-4a2b-adf0-dfb16154a001",
   "metadata": {},
   "outputs": [
    {
     "data": {
      "text/plain": [
       "['one', 'three', 'five', 'six', 'seven']"
      ]
     },
     "execution_count": 160,
     "metadata": {},
     "output_type": "execute_result"
    }
   ],
   "source": [
    "x.pop(1)\n",
    "x"
   ]
  },
  {
   "cell_type": "code",
   "execution_count": 165,
   "id": "9ebeb04b-7bcb-4cf6-b1d3-27e381824058",
   "metadata": {},
   "outputs": [
    {
     "data": {
      "text/plain": [
       "['one', 'three', 'seven']"
      ]
     },
     "execution_count": 165,
     "metadata": {},
     "output_type": "execute_result"
    }
   ],
   "source": [
    "del x[2]\n",
    "x"
   ]
  },
  {
   "cell_type": "code",
   "execution_count": 166,
   "id": "0c2bd776-827a-4077-85e1-34c91e89672b",
   "metadata": {},
   "outputs": [
    {
     "data": {
      "text/plain": [
       "[]"
      ]
     },
     "execution_count": 166,
     "metadata": {},
     "output_type": "execute_result"
    }
   ],
   "source": [
    "x.clear()\n",
    "x"
   ]
  },
  {
   "cell_type": "code",
   "execution_count": 167,
   "id": "7766afef-700b-4014-829b-ff5e18ba83d8",
   "metadata": {},
   "outputs": [
    {
     "ename": "NameError",
     "evalue": "name 'x' is not defined",
     "output_type": "error",
     "traceback": [
      "\u001b[1;31m---------------------------------------------------------------------------\u001b[0m",
      "\u001b[1;31mNameError\u001b[0m                                 Traceback (most recent call last)",
      "Cell \u001b[1;32mIn[167], line 2\u001b[0m\n\u001b[0;32m      1\u001b[0m \u001b[38;5;28;01mdel\u001b[39;00m x\n\u001b[1;32m----> 2\u001b[0m x\n",
      "\u001b[1;31mNameError\u001b[0m: name 'x' is not defined"
     ]
    }
   ],
   "source": [
    "del x\n",
    "x"
   ]
  },
  {
   "cell_type": "code",
   "execution_count": 169,
   "id": "09b5edbe-98db-4a29-adbc-8f137fe3a775",
   "metadata": {},
   "outputs": [],
   "source": [
    "x = ['one', 'two', 'three', 'four', 'five', 'six', 'seven', 'eight', 'nine']"
   ]
  },
  {
   "cell_type": "code",
   "execution_count": 171,
   "id": "cf218e61-dff0-4e74-97e6-61b6a88e043c",
   "metadata": {},
   "outputs": [],
   "source": [
    "x1=x"
   ]
  },
  {
   "cell_type": "code",
   "execution_count": 172,
   "id": "fe49df2d-c93b-4a29-9253-188e5cc15546",
   "metadata": {},
   "outputs": [
    {
     "data": {
      "text/plain": [
       "(2785522230592, 2785522230592)"
      ]
     },
     "execution_count": 172,
     "metadata": {},
     "output_type": "execute_result"
    }
   ],
   "source": [
    "id(x1),id(x)"
   ]
  },
  {
   "cell_type": "code",
   "execution_count": 173,
   "id": "ba575f4e-e5b1-45f9-9620-aeb6752b9acc",
   "metadata": {},
   "outputs": [],
   "source": [
    "x2=x.copy()"
   ]
  },
  {
   "cell_type": "code",
   "execution_count": 174,
   "id": "1a8f2ec6-dd12-424d-b970-346d41919ef4",
   "metadata": {},
   "outputs": [
    {
     "data": {
      "text/plain": [
       "2785522144128"
      ]
     },
     "execution_count": 174,
     "metadata": {},
     "output_type": "execute_result"
    }
   ],
   "source": [
    "id(x2)"
   ]
  },
  {
   "cell_type": "code",
   "execution_count": 175,
   "id": "5f4a9ba4-4947-47b0-b2f5-8dc42285b3ed",
   "metadata": {},
   "outputs": [],
   "source": [
    "x[0]=1"
   ]
  },
  {
   "cell_type": "code",
   "execution_count": 176,
   "id": "8fd2cf21-e5bc-4958-be47-aab1d8b88d32",
   "metadata": {},
   "outputs": [
    {
     "data": {
      "text/plain": [
       "[1, 'two', 'three', 'four', 'five', 'six', 'seven', 'eight', 'nine']"
      ]
     },
     "execution_count": 176,
     "metadata": {},
     "output_type": "execute_result"
    }
   ],
   "source": [
    "x"
   ]
  },
  {
   "cell_type": "code",
   "execution_count": 177,
   "id": "baef588a-8d9a-405d-9cc3-493b21f9a7e6",
   "metadata": {},
   "outputs": [
    {
     "data": {
      "text/plain": [
       "[1, 'two', 'three', 'four', 'five', 'six', 'seven', 'eight', 'nine']"
      ]
     },
     "execution_count": 177,
     "metadata": {},
     "output_type": "execute_result"
    }
   ],
   "source": [
    "x1"
   ]
  },
  {
   "cell_type": "code",
   "execution_count": 178,
   "id": "839b9363-fa64-4d12-81e6-2bbcec9d18a7",
   "metadata": {},
   "outputs": [
    {
     "data": {
      "text/plain": [
       "['one', 'two', 'three', 'four', 'five', 'six', 'seven', 'eight', 'nine']"
      ]
     },
     "execution_count": 178,
     "metadata": {},
     "output_type": "execute_result"
    }
   ],
   "source": [
    "x2"
   ]
  },
  {
   "cell_type": "code",
   "execution_count": 180,
   "id": "ec0c70f3-bc16-495d-bb46-7ab73ff3268e",
   "metadata": {},
   "outputs": [],
   "source": [
    "l1 = ['one', 'two', 'three', 'four'] \n",
    "l2 = ['five', 'six', 'seven', 'eight'] "
   ]
  },
  {
   "cell_type": "code",
   "execution_count": 181,
   "id": "90038ee5-072d-4c2c-9d5d-36c9df063269",
   "metadata": {},
   "outputs": [
    {
     "data": {
      "text/plain": [
       "['one', 'two', 'three', 'four', 'five', 'six', 'seven', 'eight']"
      ]
     },
     "execution_count": 181,
     "metadata": {},
     "output_type": "execute_result"
    }
   ],
   "source": [
    "l3 = l1+l2\n",
    "l3"
   ]
  },
  {
   "cell_type": "code",
   "execution_count": 183,
   "id": "c324002c-df21-4785-9669-d8421db23ab3",
   "metadata": {},
   "outputs": [
    {
     "data": {
      "text/plain": [
       "['one', 'two', 'three', 'four', 'five', 'six', 'seven', 'eight']"
      ]
     },
     "execution_count": 183,
     "metadata": {},
     "output_type": "execute_result"
    }
   ],
   "source": [
    "l1.extend(l2)\n",
    "l1"
   ]
  },
  {
   "cell_type": "code",
   "execution_count": 184,
   "id": "782e4d24-8d0e-4f0b-a9b5-0afae161d362",
   "metadata": {},
   "outputs": [
    {
     "data": {
      "text/plain": [
       "['one', 'two', 'three', 'four', 'five', 'six', 'seven', 'eight']"
      ]
     },
     "execution_count": 184,
     "metadata": {},
     "output_type": "execute_result"
    }
   ],
   "source": [
    "l1"
   ]
  },
  {
   "cell_type": "code",
   "execution_count": 185,
   "id": "7a3bbc14-8d36-4345-915a-65c0497a8bb0",
   "metadata": {},
   "outputs": [
    {
     "data": {
      "text/plain": [
       "['five', 'six', 'seven', 'eight']"
      ]
     },
     "execution_count": 185,
     "metadata": {},
     "output_type": "execute_result"
    }
   ],
   "source": [
    "l2"
   ]
  },
  {
   "cell_type": "code",
   "execution_count": 186,
   "id": "56bdbc25-8412-47e1-988e-cae46377dfd0",
   "metadata": {},
   "outputs": [
    {
     "data": {
      "text/plain": [
       "['one', 'two', 'three', 'four', 'five', 'six', 'seven', 'eight']"
      ]
     },
     "execution_count": 186,
     "metadata": {},
     "output_type": "execute_result"
    }
   ],
   "source": [
    "l3"
   ]
  },
  {
   "cell_type": "code",
   "execution_count": 187,
   "id": "5d981c46-a33d-4bfc-ad6e-8656dbada15f",
   "metadata": {},
   "outputs": [
    {
     "data": {
      "text/plain": [
       "True"
      ]
     },
     "execution_count": 187,
     "metadata": {},
     "output_type": "execute_result"
    }
   ],
   "source": [
    "'one' in l1"
   ]
  },
  {
   "cell_type": "code",
   "execution_count": 189,
   "id": "154c2cd5-7957-43b3-b303-12dadf106ce7",
   "metadata": {},
   "outputs": [
    {
     "data": {
      "text/plain": [
       "False"
      ]
     },
     "execution_count": 189,
     "metadata": {},
     "output_type": "execute_result"
    }
   ],
   "source": [
    "'1'in l1"
   ]
  },
  {
   "cell_type": "code",
   "execution_count": 190,
   "id": "b4c9f68d-9968-4e71-ad95-4e0ecc6fc1dc",
   "metadata": {},
   "outputs": [
    {
     "data": {
      "text/plain": [
       "False"
      ]
     },
     "execution_count": 190,
     "metadata": {},
     "output_type": "execute_result"
    }
   ],
   "source": [
    "'one' in l2"
   ]
  },
  {
   "cell_type": "code",
   "execution_count": 191,
   "id": "66ef4fbe-4fe7-4a16-8739-c5a6ad5b4c05",
   "metadata": {},
   "outputs": [
    {
     "name": "stdout",
     "output_type": "stream",
     "text": [
      "Three is present in the list\n"
     ]
    }
   ],
   "source": [
    "if 'three' in list1:\n",
    "    print('Three is present in the list') \n",
    "else:\n",
    "    print('Three is not present in the list') "
   ]
  },
  {
   "cell_type": "code",
   "execution_count": 196,
   "id": "b38d397a-bb04-4ef0-bc27-1264699b23ba",
   "metadata": {},
   "outputs": [
    {
     "name": "stdout",
     "output_type": "stream",
     "text": [
      "ten is not present in the list\n"
     ]
    }
   ],
   "source": [
    "if 'ten' in list1: # Check if 'three' exist in the list \n",
    "    print('ten is present in the list') \n",
    "else: \n",
    "    print('ten is not present in the list') "
   ]
  },
  {
   "cell_type": "code",
   "execution_count": 197,
   "id": "4644b16c-def0-47f4-8030-f41b22a032c4",
   "metadata": {},
   "outputs": [
    {
     "data": {
      "text/plain": [
       "['one', 'two', 'three', 'four', 'five', 'six', 'seven', 'eight']"
      ]
     },
     "execution_count": 197,
     "metadata": {},
     "output_type": "execute_result"
    }
   ],
   "source": [
    "l1"
   ]
  },
  {
   "cell_type": "code",
   "execution_count": 198,
   "id": "bcb52e78-59a9-4144-90c2-479133021870",
   "metadata": {},
   "outputs": [
    {
     "data": {
      "text/plain": [
       "['eight', 'seven', 'six', 'five', 'four', 'three', 'two', 'one']"
      ]
     },
     "execution_count": 198,
     "metadata": {},
     "output_type": "execute_result"
    }
   ],
   "source": [
    "l1.reverse()\n",
    "l1"
   ]
  },
  {
   "cell_type": "code",
   "execution_count": 199,
   "id": "b36c8595-ff0a-4f94-b3b3-e1b974cf46e6",
   "metadata": {},
   "outputs": [],
   "source": [
    "l1 = l1[::-1]\n"
   ]
  },
  {
   "cell_type": "code",
   "execution_count": 200,
   "id": "1e7eb9c6-edcd-4de2-9da4-15617e46dbf0",
   "metadata": {},
   "outputs": [
    {
     "data": {
      "text/plain": [
       "['one', 'two', 'three', 'four', 'five', 'six', 'seven', 'eight']"
      ]
     },
     "execution_count": 200,
     "metadata": {},
     "output_type": "execute_result"
    }
   ],
   "source": [
    "l1"
   ]
  },
  {
   "cell_type": "code",
   "execution_count": 202,
   "id": "128c0605-b888-4a31-8e27-bcdb28fd0147",
   "metadata": {},
   "outputs": [],
   "source": [
    "h = [9,5,2,99,12,46,981,85,5464,8745,544,88,34]"
   ]
  },
  {
   "cell_type": "code",
   "execution_count": 203,
   "id": "86d08e6a-46b6-4c53-811a-03f89ecc25f1",
   "metadata": {},
   "outputs": [
    {
     "data": {
      "text/plain": [
       "[2, 5, 9, 12, 34, 46, 85, 88, 99, 544, 981, 5464, 8745]"
      ]
     },
     "execution_count": 203,
     "metadata": {},
     "output_type": "execute_result"
    }
   ],
   "source": [
    "h.sort()\n",
    "h"
   ]
  },
  {
   "cell_type": "code",
   "execution_count": 206,
   "id": "f658a331-2cf9-4039-b3b6-2fe3a52cfd6e",
   "metadata": {},
   "outputs": [
    {
     "data": {
      "text/plain": [
       "[8745, 5464, 981, 544, 99, 88, 85, 46, 34, 12, 9, 5, 2]"
      ]
     },
     "execution_count": 206,
     "metadata": {},
     "output_type": "execute_result"
    }
   ],
   "source": [
    "h.sort(reverse=True)\n",
    "h"
   ]
  },
  {
   "cell_type": "code",
   "execution_count": 210,
   "id": "b85ede6e-8510-42c1-9d94-60312454ffed",
   "metadata": {},
   "outputs": [
    {
     "data": {
      "text/plain": [
       "[2, 5, 9, 12, 34, 46, 85, 88, 99, 544, 981, 5464, 8745]"
      ]
     },
     "execution_count": 210,
     "metadata": {},
     "output_type": "execute_result"
    }
   ],
   "source": [
    "h.sort(reverse=False)\n",
    "h"
   ]
  },
  {
   "cell_type": "code",
   "execution_count": 211,
   "id": "3e90b8a0-fe17-4100-ace1-e2852c304557",
   "metadata": {},
   "outputs": [],
   "source": [
    "h2 = [88,65,33,21,11,98]"
   ]
  },
  {
   "cell_type": "code",
   "execution_count": 216,
   "id": "263d7584-f769-46e8-9810-aadf02ad68e7",
   "metadata": {},
   "outputs": [
    {
     "data": {
      "text/plain": [
       "[11, 21, 33, 65, 88, 98]"
      ]
     },
     "execution_count": 216,
     "metadata": {},
     "output_type": "execute_result"
    }
   ],
   "source": [
    "sorted(h2)"
   ]
  },
  {
   "cell_type": "code",
   "execution_count": 217,
   "id": "80700a76-72a4-4107-bb80-7e62c9c6665c",
   "metadata": {},
   "outputs": [
    {
     "data": {
      "text/plain": [
       "['one', 'two', 'three', 'four', 'five', 'six', 'seven', 'eight']"
      ]
     },
     "execution_count": 217,
     "metadata": {},
     "output_type": "execute_result"
    }
   ],
   "source": [
    "l1"
   ]
  },
  {
   "cell_type": "code",
   "execution_count": 219,
   "id": "bd2cc7ef-4057-4928-8853-b881fb8a2e13",
   "metadata": {},
   "outputs": [
    {
     "name": "stdout",
     "output_type": "stream",
     "text": [
      "one\n",
      "two\n",
      "three\n",
      "four\n",
      "five\n",
      "six\n",
      "seven\n",
      "eight\n"
     ]
    }
   ],
   "source": [
    "for i in l1:\n",
    "    print(i)"
   ]
  },
  {
   "cell_type": "code",
   "execution_count": 220,
   "id": "e3f72023-bd96-4604-9b7a-a145eeab6ffd",
   "metadata": {},
   "outputs": [
    {
     "name": "stdout",
     "output_type": "stream",
     "text": [
      "(0, 'one')\n",
      "(1, 'two')\n",
      "(2, 'three')\n",
      "(3, 'four')\n",
      "(4, 'five')\n",
      "(5, 'six')\n",
      "(6, 'seven')\n",
      "(7, 'eight')\n"
     ]
    }
   ],
   "source": [
    "for i in enumerate(l1):\n",
    "    print(i)"
   ]
  },
  {
   "cell_type": "code",
   "execution_count": 225,
   "id": "2bb88567-1131-4469-b4b3-43ed45c6b61b",
   "metadata": {},
   "outputs": [],
   "source": [
    "x =['one', 'two', 'three', 'four', 'one', 'one', 'two', 'three'] "
   ]
  },
  {
   "cell_type": "code",
   "execution_count": 228,
   "id": "0954c70a-f9d2-411f-aa30-c7fe63a60a09",
   "metadata": {},
   "outputs": [
    {
     "data": {
      "text/plain": [
       "3"
      ]
     },
     "execution_count": 228,
     "metadata": {},
     "output_type": "execute_result"
    }
   ],
   "source": [
    "x.count('one')\n"
   ]
  },
  {
   "cell_type": "code",
   "execution_count": 230,
   "id": "92e151ae-3c87-4c19-a14b-115b30808e3e",
   "metadata": {},
   "outputs": [
    {
     "data": {
      "text/plain": [
       "0"
      ]
     },
     "execution_count": 230,
     "metadata": {},
     "output_type": "execute_result"
    }
   ],
   "source": [
    "x.count('ten')"
   ]
  },
  {
   "cell_type": "code",
   "execution_count": 241,
   "id": "c498deac-ea93-4929-8b8a-aa12b133e7b9",
   "metadata": {},
   "outputs": [],
   "source": [
    "l1 = [1,2,3,4,5,6,7,8,9,0]"
   ]
  },
  {
   "cell_type": "code",
   "execution_count": 242,
   "id": "b487fe96-92a7-46ac-affc-6f36ebb7ffc1",
   "metadata": {},
   "outputs": [
    {
     "data": {
      "text/plain": [
       "False"
      ]
     },
     "execution_count": 242,
     "metadata": {},
     "output_type": "execute_result"
    }
   ],
   "source": [
    "all(l1)"
   ]
  },
  {
   "cell_type": "code",
   "execution_count": 243,
   "id": "71f69e38-7426-41ac-8d1d-19e823772129",
   "metadata": {},
   "outputs": [
    {
     "data": {
      "text/plain": [
       "True"
      ]
     },
     "execution_count": 243,
     "metadata": {},
     "output_type": "execute_result"
    }
   ],
   "source": [
    "any(l1)"
   ]
  },
  {
   "cell_type": "code",
   "execution_count": 252,
   "id": "36d72647-2c1e-4f50-9129-24e85a49e682",
   "metadata": {},
   "outputs": [],
   "source": [
    "L2 = [1,2,3,4,False] "
   ]
  },
  {
   "cell_type": "code",
   "execution_count": 253,
   "id": "137b12ed-0d8c-4ed4-962c-fa74e56df4ad",
   "metadata": {},
   "outputs": [
    {
     "data": {
      "text/plain": [
       "False"
      ]
     },
     "execution_count": 253,
     "metadata": {},
     "output_type": "execute_result"
    }
   ],
   "source": [
    "all(L2)"
   ]
  },
  {
   "cell_type": "code",
   "execution_count": 254,
   "id": "0117b0ee-49ff-4f57-a692-0aecf46e8934",
   "metadata": {},
   "outputs": [
    {
     "data": {
      "text/plain": [
       "True"
      ]
     },
     "execution_count": 254,
     "metadata": {},
     "output_type": "execute_result"
    }
   ],
   "source": [
    "any(L2)"
   ]
  },
  {
   "cell_type": "code",
   "execution_count": 255,
   "id": "bfb56436-b91d-45eb-bb9d-2a2b691ef155",
   "metadata": {},
   "outputs": [],
   "source": [
    "t1 = ()"
   ]
  },
  {
   "cell_type": "code",
   "execution_count": 258,
   "id": "499680b3-c092-42ce-997a-173e65a0c360",
   "metadata": {},
   "outputs": [],
   "source": [
    "t2=(10,29,40,74)"
   ]
  },
  {
   "cell_type": "code",
   "execution_count": 259,
   "id": "3cdb36b5-554c-4c57-bf36-8fbbfbb5b07b",
   "metadata": {},
   "outputs": [],
   "source": [
    "t3=(12.45,745,75.09,87)"
   ]
  },
  {
   "cell_type": "code",
   "execution_count": 260,
   "id": "dae91ff7-bf22-4541-b350-98e43fae409f",
   "metadata": {},
   "outputs": [],
   "source": [
    "t4=('one','two','three')"
   ]
  },
  {
   "cell_type": "code",
   "execution_count": 262,
   "id": "61ae70a5-f30d-4815-b946-b1c6d1eeaefb",
   "metadata": {},
   "outputs": [],
   "source": [
    "t5=('python',25,(54,200),(35,90))\n",
    "t6=(100,'python',17.263)\n",
    "t7=('python',24,[54,200],[35,90],{'sindhu','srija'},(12,33,77))"
   ]
  },
  {
   "cell_type": "code",
   "execution_count": 263,
   "id": "d921c217-57db-4638-9658-293422d7ec2c",
   "metadata": {},
   "outputs": [
    {
     "data": {
      "text/plain": [
       "6"
      ]
     },
     "execution_count": 263,
     "metadata": {},
     "output_type": "execute_result"
    }
   ],
   "source": [
    "len(t7)"
   ]
  },
  {
   "cell_type": "code",
   "execution_count": 264,
   "id": "53228189-10e9-4d2d-a667-cbd79e1831cd",
   "metadata": {},
   "outputs": [
    {
     "data": {
      "text/plain": [
       "10"
      ]
     },
     "execution_count": 264,
     "metadata": {},
     "output_type": "execute_result"
    }
   ],
   "source": [
    "t2[0]"
   ]
  },
  {
   "cell_type": "code",
   "execution_count": 265,
   "id": "91fdf224-a6b1-444e-8c79-353700aaff43",
   "metadata": {},
   "outputs": [
    {
     "data": {
      "text/plain": [
       "'p'"
      ]
     },
     "execution_count": 265,
     "metadata": {},
     "output_type": "execute_result"
    }
   ],
   "source": [
    "t5[0][0]"
   ]
  },
  {
   "cell_type": "code",
   "execution_count": 266,
   "id": "ff9070b9-3a5a-4a21-a356-1b9722d3de4b",
   "metadata": {},
   "outputs": [
    {
     "data": {
      "text/plain": [
       "25"
      ]
     },
     "execution_count": 266,
     "metadata": {},
     "output_type": "execute_result"
    }
   ],
   "source": [
    "t5[-3]"
   ]
  },
  {
   "cell_type": "code",
   "execution_count": 267,
   "id": "faf94af5-9464-4679-a9ee-ecb63307b757",
   "metadata": {},
   "outputs": [
    {
     "data": {
      "text/plain": [
       "['one', 'two', 'three', 'four', 'one', 'one', 'two', 'three']"
      ]
     },
     "execution_count": 267,
     "metadata": {},
     "output_type": "execute_result"
    }
   ],
   "source": [
    "x"
   ]
  },
  {
   "cell_type": "code",
   "execution_count": 268,
   "id": "e24735f4-88da-41b8-b8e0-f6f01cb26e37",
   "metadata": {},
   "outputs": [
    {
     "data": {
      "text/plain": [
       "[2, 5, 9, 12, 34, 46, 85, 88, 99, 544, 981, 5464, 8745]"
      ]
     },
     "execution_count": 268,
     "metadata": {},
     "output_type": "execute_result"
    }
   ],
   "source": [
    "h"
   ]
  },
  {
   "cell_type": "code",
   "execution_count": 270,
   "id": "d3ec351b-defe-4fc3-8237-5da91867f6ae",
   "metadata": {},
   "outputs": [],
   "source": [
    "l1=['one', 'two', 'three', 'four', 'five', 'six', 'seven', 'eight']"
   ]
  },
  {
   "cell_type": "code",
   "execution_count": 271,
   "id": "22afa93e-4f20-4274-b0b9-6f3ca1ac10f2",
   "metadata": {},
   "outputs": [
    {
     "data": {
      "text/plain": [
       "['one', 'two', 'three', 'four', 'five', 'six']"
      ]
     },
     "execution_count": 271,
     "metadata": {},
     "output_type": "execute_result"
    }
   ],
   "source": [
    "l1[0:6]"
   ]
  },
  {
   "cell_type": "code",
   "execution_count": 272,
   "id": "39da7a42-d3ef-453a-8c28-76d8a102f3a4",
   "metadata": {},
   "outputs": [
    {
     "data": {
      "text/plain": [
       "['one', 'two', 'three', 'four', 'five', 'six', 'seven', 'eight']"
      ]
     },
     "execution_count": 272,
     "metadata": {},
     "output_type": "execute_result"
    }
   ],
   "source": [
    "l1"
   ]
  },
  {
   "cell_type": "code",
   "execution_count": 273,
   "id": "552b59e9-4b87-42ad-9df5-d24a4f19713f",
   "metadata": {},
   "outputs": [
    {
     "name": "stdout",
     "output_type": "stream",
     "text": [
      "one\n",
      "two\n",
      "three\n",
      "four\n",
      "five\n",
      "six\n",
      "seven\n",
      "eight\n"
     ]
    }
   ],
   "source": [
    "for i in l1:\n",
    "    print(i)"
   ]
  },
  {
   "cell_type": "code",
   "execution_count": 274,
   "id": "6bc9b176-543c-4b77-adf2-874d17f7a951",
   "metadata": {},
   "outputs": [
    {
     "name": "stdout",
     "output_type": "stream",
     "text": [
      "(0, 'one')\n",
      "(1, 'two')\n",
      "(2, 'three')\n",
      "(3, 'four')\n",
      "(4, 'five')\n",
      "(5, 'six')\n",
      "(6, 'seven')\n",
      "(7, 'eight')\n"
     ]
    }
   ],
   "source": [
    "for i in enumerate(l1):\n",
    "    print(i)"
   ]
  },
  {
   "cell_type": "code",
   "execution_count": 275,
   "id": "164e0ad5-df2b-4574-a921-119d7d5bcb43",
   "metadata": {},
   "outputs": [
    {
     "data": {
      "text/plain": [
       "['one', 'two', 'three', 'four', 'five', 'six', 'seven', 'eight']"
      ]
     },
     "execution_count": 275,
     "metadata": {},
     "output_type": "execute_result"
    }
   ],
   "source": [
    "l1"
   ]
  },
  {
   "cell_type": "code",
   "execution_count": 276,
   "id": "dff290e6-b784-46ee-80af-a0054ac700f3",
   "metadata": {},
   "outputs": [
    {
     "data": {
      "text/plain": [
       "True"
      ]
     },
     "execution_count": 276,
     "metadata": {},
     "output_type": "execute_result"
    }
   ],
   "source": [
    "'one' in l1"
   ]
  },
  {
   "cell_type": "code",
   "execution_count": 277,
   "id": "2682d49c-478e-4213-ba11-b44c83694063",
   "metadata": {},
   "outputs": [
    {
     "data": {
      "text/plain": [
       "False"
      ]
     },
     "execution_count": 277,
     "metadata": {},
     "output_type": "execute_result"
    }
   ],
   "source": [
    "'9' in l1"
   ]
  },
  {
   "cell_type": "code",
   "execution_count": 279,
   "id": "29d2361c-e088-421c-97e1-8138ce0edb44",
   "metadata": {},
   "outputs": [
    {
     "name": "stdout",
     "output_type": "stream",
     "text": [
      "two is present in the tuple\n"
     ]
    }
   ],
   "source": [
    "if 'two' in l1:\n",
    "    print('two is present in the tuple')\n",
    "else:\n",
    "    print('two is not present in the tuple')"
   ]
  },
  {
   "cell_type": "code",
   "execution_count": 280,
   "id": "c2e953aa-6a72-4dde-b97d-b4ec054cc0b9",
   "metadata": {},
   "outputs": [
    {
     "data": {
      "text/plain": [
       "['one', 'two', 'three', 'four', 'five', 'six', 'seven', 'eight']"
      ]
     },
     "execution_count": 280,
     "metadata": {},
     "output_type": "execute_result"
    }
   ],
   "source": [
    "l1"
   ]
  },
  {
   "cell_type": "code",
   "execution_count": 281,
   "id": "98a35ec2-2b77-4f4d-825d-fc76766906da",
   "metadata": {},
   "outputs": [
    {
     "data": {
      "text/plain": [
       "2"
      ]
     },
     "execution_count": 281,
     "metadata": {},
     "output_type": "execute_result"
    }
   ],
   "source": [
    "l1.index('three')"
   ]
  },
  {
   "cell_type": "code",
   "execution_count": 282,
   "id": "33d5a09e-21e3-454f-96e4-d82516b36b39",
   "metadata": {},
   "outputs": [
    {
     "data": {
      "text/plain": [
       "['one', 'two', 'three', 'four', 'one', 'one', 'two', 'three']"
      ]
     },
     "execution_count": 282,
     "metadata": {},
     "output_type": "execute_result"
    }
   ],
   "source": [
    "x"
   ]
  },
  {
   "cell_type": "code",
   "execution_count": 283,
   "id": "8bbbb13c-9f2b-4212-aa49-f5a5b5bc294b",
   "metadata": {},
   "outputs": [
    {
     "data": {
      "text/plain": [
       "0"
      ]
     },
     "execution_count": 283,
     "metadata": {},
     "output_type": "execute_result"
    }
   ],
   "source": [
    "x.index('one')"
   ]
  },
  {
   "cell_type": "code",
   "execution_count": 284,
   "id": "d5791ec8-2159-439b-9828-4e8443af19b2",
   "metadata": {},
   "outputs": [],
   "source": [
    "n=(46,21,96,23,12,5,74391,222548,14,36,95,45,85,369,1458,468764)"
   ]
  },
  {
   "cell_type": "code",
   "execution_count": 288,
   "id": "32a66295-c8e4-4fc0-a75d-79105943e7b9",
   "metadata": {},
   "outputs": [
    {
     "data": {
      "text/plain": [
       "[5, 12, 14, 21, 23, 36, 45, 46, 85, 95, 96, 369, 1458, 74391, 222548, 468764]"
      ]
     },
     "execution_count": 288,
     "metadata": {},
     "output_type": "execute_result"
    }
   ],
   "source": [
    "sorted(n)"
   ]
  },
  {
   "cell_type": "code",
   "execution_count": 289,
   "id": "334066c8-4919-43d2-aa3e-245147fe6531",
   "metadata": {},
   "outputs": [
    {
     "data": {
      "text/plain": [
       "[468764, 222548, 74391, 1458, 369, 96, 95, 85, 46, 45, 36, 23, 21, 14, 12, 5]"
      ]
     },
     "execution_count": 289,
     "metadata": {},
     "output_type": "execute_result"
    }
   ],
   "source": [
    "sorted(n,reverse=True)"
   ]
  },
  {
   "cell_type": "code",
   "execution_count": null,
   "id": "9adab1d2-5db3-4831-be33-b7e0e3862dc2",
   "metadata": {},
   "outputs": [],
   "source": []
  }
 ],
 "metadata": {
  "kernelspec": {
   "display_name": "Python 3 (ipykernel)",
   "language": "python",
   "name": "python3"
  },
  "language_info": {
   "codemirror_mode": {
    "name": "ipython",
    "version": 3
   },
   "file_extension": ".py",
   "mimetype": "text/x-python",
   "name": "python",
   "nbconvert_exporter": "python",
   "pygments_lexer": "ipython3",
   "version": "3.12.7"
  }
 },
 "nbformat": 4,
 "nbformat_minor": 5
}
